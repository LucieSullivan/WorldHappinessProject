{
  "nbformat": 4,
  "nbformat_minor": 0,
  "metadata": {
    "colab": {
      "name": "351 Project.ipynb",
      "provenance": [],
      "collapsed_sections": []
    },
    "kernelspec": {
      "name": "python3",
      "display_name": "Python 3"
    }
  },
  "cells": [
    {
      "cell_type": "markdown",
      "metadata": {
        "id": "B8jDS40g98BO",
        "colab_type": "text"
      },
      "source": [
        "## **What Makes People in a Country Happy?**\n",
        "\n",
        "Lucie Sullivan and Jinkyu Kang\n"
      ]
    },
    {
      "cell_type": "code",
      "metadata": {
        "id": "DPWoHKjy1Sgo",
        "colab_type": "code",
        "colab": {
          "base_uri": "https://localhost:8080/",
          "height": 72
        },
        "outputId": "28daf855-e8a5-4a6b-9a1d-b94aae0716b9"
      },
      "source": [
        "#Imports used\n",
        "from google.colab import files\n",
        "import pandas as pd\n",
        "import numpy as np\n",
        "import seaborn as sns\n",
        "import matplotlib.pyplot as plt\n",
        "import missingno\n",
        "import sklearn as skl\n",
        "from sklearn.linear_model import LinearRegression\n",
        "from sklearn import metrics\n",
        "from sklearn.svm import SVR\n",
        "from sklearn.ensemble import RandomForestRegressor"
      ],
      "execution_count": null,
      "outputs": [
        {
          "output_type": "stream",
          "text": [
            "/usr/local/lib/python3.6/dist-packages/statsmodels/tools/_testing.py:19: FutureWarning: pandas.util.testing is deprecated. Use the functions in the public API at pandas.testing instead.\n",
            "  import pandas.util.testing as tm\n"
          ],
          "name": "stderr"
        }
      ]
    },
    {
      "cell_type": "code",
      "metadata": {
        "id": "oW16XRzO3Vnn",
        "colab_type": "code",
        "colab": {}
      },
      "source": [
        "#Used to upload the csv files from my computer to the notebook\n",
        "uploaded = files.upload()"
      ],
      "execution_count": null,
      "outputs": []
    },
    {
      "cell_type": "code",
      "metadata": {
        "id": "KEwuY2Ti3Mgx",
        "colab_type": "code",
        "colab": {}
      },
      "source": [
        "#Read in the files as dataframes\n",
        "happy15 = pd.read_csv('2015.csv')\n",
        "happy16 = pd.read_csv('2016.csv')\n",
        "happy17 = pd.read_csv('2017.csv')\n",
        "happy18 = pd.read_csv('2018.csv')\n",
        "happy19 = pd.read_csv('2019.csv')"
      ],
      "execution_count": null,
      "outputs": []
    },
    {
      "cell_type": "markdown",
      "metadata": {
        "id": "Y82Cxe4U_4or",
        "colab_type": "text"
      },
      "source": [
        "**Exploratory Data Analysis**"
      ]
    },
    {
      "cell_type": "markdown",
      "metadata": {
        "id": "lcOY6T6j-kHn",
        "colab_type": "text"
      },
      "source": [
        "First, each file did not contain a year column. This needed to be added so when merged it is possible to tell each year's data apart. Next, I noticed that some of the years had columns that were not present in other years, these needed to be removed. Finally, the columns that were in all the years often had slightly different names. These needed to be renamed in order for the data to be merged. "
      ]
    },
    {
      "cell_type": "code",
      "metadata": {
        "id": "KKD1xWD44e23",
        "colab_type": "code",
        "colab": {}
      },
      "source": [
        "#Add that year column\n",
        "happy15['Year'] = 2015\n",
        "happy16['Year'] = 2016\n",
        "happy17['Year'] = 2017\n",
        "happy18['Year'] = 2018\n",
        "happy19['Year'] = 2019"
      ],
      "execution_count": null,
      "outputs": []
    },
    {
      "cell_type": "code",
      "metadata": {
        "id": "Hq4PifCrAq1j",
        "colab_type": "code",
        "colab": {
          "base_uri": "https://localhost:8080/",
          "height": 475
        },
        "outputId": "2638f4f6-6326-49f2-df90-16225069ccf2"
      },
      "source": [
        "#Compare the columns titles of each year\n",
        "print(happy15.columns)\n",
        "print(happy16.columns)\n",
        "print(happy17.columns)\n",
        "print(happy18.columns)\n",
        "print(happy19.columns)"
      ],
      "execution_count": null,
      "outputs": [
        {
          "output_type": "stream",
          "text": [
            "Index(['Country', 'Region', 'Happiness Rank', 'Happiness Score',\n",
            "       'Standard Error', 'Economy (GDP per Capita)', 'Family',\n",
            "       'Health (Life Expectancy)', 'Freedom', 'Trust (Government Corruption)',\n",
            "       'Generosity', 'Dystopia Residual', 'Year'],\n",
            "      dtype='object')\n",
            "Index(['Country', 'Region', 'Happiness Rank', 'Happiness Score',\n",
            "       'Lower Confidence Interval', 'Upper Confidence Interval',\n",
            "       'Economy (GDP per Capita)', 'Family', 'Health (Life Expectancy)',\n",
            "       'Freedom', 'Trust (Government Corruption)', 'Generosity',\n",
            "       'Dystopia Residual', 'Year'],\n",
            "      dtype='object')\n",
            "Index(['Country', 'Happiness.Rank', 'Happiness.Score', 'Whisker.high',\n",
            "       'Whisker.low', 'Economy..GDP.per.Capita.', 'Family',\n",
            "       'Health..Life.Expectancy.', 'Freedom', 'Generosity',\n",
            "       'Trust..Government.Corruption.', 'Dystopia.Residual', 'Year'],\n",
            "      dtype='object')\n",
            "Index(['Overall rank', 'Country or region', 'Score', 'GDP per capita',\n",
            "       'Social support', 'Healthy life expectancy',\n",
            "       'Freedom to make life choices', 'Generosity',\n",
            "       'Perceptions of corruption', 'Year'],\n",
            "      dtype='object')\n",
            "Index(['Overall rank', 'Country or region', 'Score', 'GDP per capita',\n",
            "       'Social support', 'Healthy life expectancy',\n",
            "       'Freedom to make life choices', 'Generosity',\n",
            "       'Perceptions of corruption', 'Year'],\n",
            "      dtype='object')\n"
          ],
          "name": "stdout"
        }
      ]
    },
    {
      "cell_type": "code",
      "metadata": {
        "id": "E1YEuRkIA5RY",
        "colab_type": "code",
        "cellView": "code",
        "colab": {}
      },
      "source": [
        "#Remove the unneeded columns\n",
        "happy15 = happy15.drop(['Region', 'Standard Error', 'Family', 'Trust (Government Corruption)', 'Dystopia Residual'], axis = 1)\n",
        "happy16 = happy16.drop(['Region', 'Lower Confidence Interval', 'Upper Confidence Interval', 'Family', 'Trust (Government Corruption)','Dystopia Residual'], axis = 1)\n",
        "happy17 = happy17.drop(['Whisker.high','Whisker.low','Trust..Government.Corruption.', 'Dystopia.Residual', 'Family'], axis = 1)\n",
        "happy18 = happy18.drop(['Social support', 'Perceptions of corruption'], axis = 1)\n",
        "happy19 = happy19.drop(['Social support', 'Perceptions of corruption' ], axis = 1)"
      ],
      "execution_count": null,
      "outputs": []
    },
    {
      "cell_type": "code",
      "metadata": {
        "id": "EIbKgpr6d3ox",
        "colab_type": "code",
        "colab": {}
      },
      "source": [
        "#Rename the columns\n",
        "happy15.rename(columns= {'Happiness Rank':'Rank', 'Happiness Score':'Score', 'Economy (GDP per Capita)':'GDP', 'Health (Life Expectancy)':'Health'} , inplace = True)\n",
        "happy16.rename(columns= {'Happiness Rank':'Rank', 'Happiness Score':'Score', 'Economy (GDP per Capita)':'GDP', 'Health (Life Expectancy)':'Health'} , inplace = True)\n",
        "happy17.rename(columns= {'Happiness.Rank':'Rank', 'Happiness.Score': 'Score', 'Economy..GDP.per.Capita.':'GDP', 'Health..Life.Expectancy.':'Health'}, inplace = True)\n",
        "happy18.rename(columns= {'Overall rank':'Rank', 'Country or region':'Country', 'GDP per capita':'GDP', 'Healthy life expectancy':'Health', 'Freedom to make life choices':'Freedom'}, inplace = True)\n",
        "happy19.rename(columns= {'Overall rank':'Rank', 'Country or region':'Country', 'GDP per capita':'GDP', 'Healthy life expectancy':'Health', 'Freedom to make life choices':'Freedom'}, inplace = True )"
      ],
      "execution_count": null,
      "outputs": []
    },
    {
      "cell_type": "markdown",
      "metadata": {
        "id": "ySVeKVOcBUNo",
        "colab_type": "text"
      },
      "source": [
        "Luckily, all the data other than the country names are numerical. This will make analysis later easier. To avoid any issues, the country name, along with the year, will be made part of the index. "
      ]
    },
    {
      "cell_type": "code",
      "metadata": {
        "id": "gl0sWl8lm1WI",
        "colab_type": "code",
        "colab": {}
      },
      "source": [
        "#Set the index of the data to be the year and country\n",
        "happy15 = happy15.set_index(['Year', 'Country'])\n",
        "happy16 = happy16.set_index(['Year', 'Country'])\n",
        "happy17 = happy17.set_index(['Year', 'Country'])\n",
        "happy18 = happy18.set_index(['Year', 'Country'])\n",
        "happy19 = happy19.set_index(['Year', 'Country'])"
      ],
      "execution_count": null,
      "outputs": []
    },
    {
      "cell_type": "markdown",
      "metadata": {
        "id": "Vr3eFNXFnalJ",
        "colab_type": "text"
      },
      "source": [
        "Now that the the years are all comparable, they can finally be merged. Since 2019 is the test set it will not be added here. Though I will still clean it just in case. "
      ]
    },
    {
      "cell_type": "code",
      "metadata": {
        "id": "3ANUGE9VjWeE",
        "colab_type": "code",
        "colab": {}
      },
      "source": [
        "#Put the training sets together\n",
        "happyall = happy15.append([happy16, happy17, happy18])"
      ],
      "execution_count": null,
      "outputs": []
    },
    {
      "cell_type": "code",
      "metadata": {
        "id": "Qs9igaX5Cmsb",
        "colab_type": "code",
        "colab": {
          "base_uri": "https://localhost:8080/",
          "height": 411
        },
        "outputId": "33d94acc-9d80-4348-d831-1c81051c0610"
      },
      "source": [
        "#Determine if there are any missing values in the training set\n",
        "missingno.matrix(happyall, figsize = (10,5))"
      ],
      "execution_count": null,
      "outputs": [
        {
          "output_type": "execute_result",
          "data": {
            "text/plain": [
              "<matplotlib.axes._subplots.AxesSubplot at 0x7f16c466ab70>"
            ]
          },
          "metadata": {
            "tags": []
          },
          "execution_count": 10
        },
        {
          "output_type": "display_data",
          "data": {
            "image/png": "[encoded data removed]",
            "text/plain": [
              "<Figure size 720x360 with 2 Axes>"
            ]
          },
          "metadata": {
            "tags": [],
            "needs_background": "light"
          }
        }
      ]
    },
    {
      "cell_type": "code",
      "metadata": {
        "id": "DwWuF60dpONM",
        "colab_type": "code",
        "colab": {
          "base_uri": "https://localhost:8080/",
          "height": 409
        },
        "outputId": "aff62181-e684-4f62-bfec-a234fc1d32b2"
      },
      "source": [
        "#Determine if there is any missing data in the test data\n",
        "missingno.matrix(happy19, figsize = (10, 5))"
      ],
      "execution_count": null,
      "outputs": [
        {
          "output_type": "execute_result",
          "data": {
            "text/plain": [
              "<matplotlib.axes._subplots.AxesSubplot at 0x7f16c18fa860>"
            ]
          },
          "metadata": {
            "tags": []
          },
          "execution_count": 11
        },
        {
          "output_type": "display_data",
          "data": {
            "image/png": "[encoded data removed]",
            "text/plain": [
              "<Figure size 720x360 with 2 Axes>"
            ]
          },
          "metadata": {
            "tags": [],
            "needs_background": "light"
          }
        }
      ]
    },
    {
      "cell_type": "markdown",
      "metadata": {
        "id": "SnmpnicqD1Cf",
        "colab_type": "text"
      },
      "source": [
        "These plots show that there is not any missing data in the data frames. This means there is no need for removing blank rows or for imputation. "
      ]
    },
    {
      "cell_type": "code",
      "metadata": {
        "id": "SPgbyPAeq0h7",
        "colab_type": "code",
        "colab": {
          "base_uri": "https://localhost:8080/",
          "height": 295
        },
        "outputId": "16a6b559-5304-452f-e989-4ab8d97049e5"
      },
      "source": [
        "happyall.describe()"
      ],
      "execution_count": null,
      "outputs": [
        {
          "output_type": "execute_result",
          "data": {
            "text/html": [
              "<div>\n",
              "<style scoped>\n",
              "    .dataframe tbody tr th:only-of-type {\n",
              "        vertical-align: middle;\n",
              "    }\n",
              "\n",
              "    .dataframe tbody tr th {\n",
              "        vertical-align: top;\n",
              "    }\n",
              "\n",
              "    .dataframe thead th {\n",
              "        text-align: right;\n",
              "    }\n",
              "</style>\n",
              "<table border=\"1\" class=\"dataframe\">\n",
              "  <thead>\n",
              "    <tr style=\"text-align: right;\">\n",
              "      <th></th>\n",
              "      <th>Rank</th>\n",
              "      <th>Score</th>\n",
              "      <th>GDP</th>\n",
              "      <th>Health</th>\n",
              "      <th>Freedom</th>\n",
              "      <th>Generosity</th>\n",
              "    </tr>\n",
              "  </thead>\n",
              "  <tbody>\n",
              "    <tr>\n",
              "      <th>count</th>\n",
              "      <td>626.000000</td>\n",
              "      <td>626.000000</td>\n",
              "      <td>626.000000</td>\n",
              "      <td>626.000000</td>\n",
              "      <td>626.000000</td>\n",
              "      <td>626.000000</td>\n",
              "    </tr>\n",
              "    <tr>\n",
              "      <th>mean</th>\n",
              "      <td>78.747604</td>\n",
              "      <td>5.372021</td>\n",
              "      <td>0.918764</td>\n",
              "      <td>0.584299</td>\n",
              "      <td>0.415706</td>\n",
              "      <td>0.226981</td>\n",
              "    </tr>\n",
              "    <tr>\n",
              "      <th>std</th>\n",
              "      <td>45.219609</td>\n",
              "      <td>1.131774</td>\n",
              "      <td>0.409808</td>\n",
              "      <td>0.241948</td>\n",
              "      <td>0.154943</td>\n",
              "      <td>0.126854</td>\n",
              "    </tr>\n",
              "    <tr>\n",
              "      <th>min</th>\n",
              "      <td>1.000000</td>\n",
              "      <td>2.693000</td>\n",
              "      <td>0.000000</td>\n",
              "      <td>0.000000</td>\n",
              "      <td>0.000000</td>\n",
              "      <td>0.000000</td>\n",
              "    </tr>\n",
              "    <tr>\n",
              "      <th>25%</th>\n",
              "      <td>40.000000</td>\n",
              "      <td>4.497750</td>\n",
              "      <td>0.606755</td>\n",
              "      <td>0.404142</td>\n",
              "      <td>0.310500</td>\n",
              "      <td>0.137263</td>\n",
              "    </tr>\n",
              "    <tr>\n",
              "      <th>50%</th>\n",
              "      <td>79.000000</td>\n",
              "      <td>5.307000</td>\n",
              "      <td>0.983705</td>\n",
              "      <td>0.632553</td>\n",
              "      <td>0.434635</td>\n",
              "      <td>0.208581</td>\n",
              "    </tr>\n",
              "    <tr>\n",
              "      <th>75%</th>\n",
              "      <td>118.000000</td>\n",
              "      <td>6.187250</td>\n",
              "      <td>1.239502</td>\n",
              "      <td>0.772957</td>\n",
              "      <td>0.538998</td>\n",
              "      <td>0.290915</td>\n",
              "    </tr>\n",
              "    <tr>\n",
              "      <th>max</th>\n",
              "      <td>158.000000</td>\n",
              "      <td>7.632000</td>\n",
              "      <td>2.096000</td>\n",
              "      <td>1.030000</td>\n",
              "      <td>0.724000</td>\n",
              "      <td>0.838075</td>\n",
              "    </tr>\n",
              "  </tbody>\n",
              "</table>\n",
              "</div>"
            ],
            "text/plain": [
              "             Rank       Score         GDP      Health     Freedom  Generosity\n",
              "count  626.000000  626.000000  626.000000  626.000000  626.000000  626.000000\n",
              "mean    78.747604    5.372021    0.918764    0.584299    0.415706    0.226981\n",
              "std     45.219609    1.131774    0.409808    0.241948    0.154943    0.126854\n",
              "min      1.000000    2.693000    0.000000    0.000000    0.000000    0.000000\n",
              "25%     40.000000    4.497750    0.606755    0.404142    0.310500    0.137263\n",
              "50%     79.000000    5.307000    0.983705    0.632553    0.434635    0.208581\n",
              "75%    118.000000    6.187250    1.239502    0.772957    0.538998    0.290915\n",
              "max    158.000000    7.632000    2.096000    1.030000    0.724000    0.838075"
            ]
          },
          "metadata": {
            "tags": []
          },
          "execution_count": 12
        }
      ]
    },
    {
      "cell_type": "markdown",
      "metadata": {
        "id": "LTLGlP4hE70m",
        "colab_type": "text"
      },
      "source": [
        "I used the concept that a value more than 5 standard deviations away from the mean is considered an outlier."
      ]
    },
    {
      "cell_type": "code",
      "metadata": {
        "id": "Qp8UmX85FHAN",
        "colab_type": "code",
        "colab": {}
      },
      "source": [
        "def out(mean, std, variable):\n",
        "  outlier1 = mean - std*5\n",
        "  outlier2 = mean + std*5\n",
        "  print('The outliers bounds for', variable, 'are:', outlier1, outlier2)"
      ],
      "execution_count": null,
      "outputs": []
    },
    {
      "cell_type": "code",
      "metadata": {
        "id": "KjoIwK7GGBoL",
        "colab_type": "code",
        "colab": {
          "base_uri": "https://localhost:8080/",
          "height": 105
        },
        "outputId": "401214f5-584c-438c-cf0d-ff861b1804d0"
      },
      "source": [
        "out(happyall['Score'].mean(), np.std(happyall['Score']), 'Score')\n",
        "out(happyall['GDP'].mean(), np.std(happyall['GDP']), 'GDP')\n",
        "out(happyall['Health'].mean(), np.std(happyall['Health']), 'Health')\n",
        "out(happyall['Freedom'].mean(), np.std(happyall['Freedom']), 'Freedom')\n",
        "out(happyall['Generosity'].mean(), np.std(happyall['Generosity']), 'Generosity')"
      ],
      "execution_count": null,
      "outputs": [
        {
          "output_type": "stream",
          "text": [
            "The outliers bounds for Score are: -0.2823276236363981 11.02636915764585\n",
            "The outliers bounds for GDP are: -1.1286410938288254 2.966168669872544\n",
            "The outliers bounds for Health are: -0.6244741262085106 1.793071510569245\n",
            "The outliers bounds for Freedom are: -0.3583897616527925 1.1898019846337842\n",
            "The outliers bounds for Generosity are: -0.40678376683541706 0.8607464125241358\n"
          ],
          "name": "stdout"
        }
      ]
    },
    {
      "cell_type": "markdown",
      "metadata": {
        "id": "lS7i_Scoq_Y1",
        "colab_type": "text"
      },
      "source": [
        "Using my outlier model, there are no categories with outlier data. This means the data does not need to be further cleaned.  "
      ]
    },
    {
      "cell_type": "code",
      "metadata": {
        "id": "lSBB1fnOsJsR",
        "colab_type": "code",
        "colab": {
          "base_uri": "https://localhost:8080/",
          "height": 105
        },
        "outputId": "8ab7cd82-8624-4d28-cfdf-b15de9e7dfc7"
      },
      "source": [
        "print('The average happiness score in 2015 was:', happyall.loc[2015]['Score'].mean())\n",
        "print('The average happiness score in 2016 was:', happyall.loc[2016]['Score'].mean())\n",
        "print('The average happiness score in 2017 was:', happyall.loc[2017]['Score'].mean())\n",
        "print('The average happiness score in 2018 was:', happyall.loc[2018]['Score'].mean())\n",
        "print('The average happiness score over time was:', happyall['Score'].mean())"
      ],
      "execution_count": null,
      "outputs": [
        {
          "output_type": "stream",
          "text": [
            "The average happiness score in 2015 was: 5.3757341772151905\n",
            "The average happiness score in 2016 was: 5.382184713375795\n",
            "The average happiness score in 2017 was: 5.354019355773926\n",
            "The average happiness score in 2018 was: 5.375916666666668\n",
            "The average happiness score over time was: 5.3720207670047255\n"
          ],
          "name": "stdout"
        }
      ]
    },
    {
      "cell_type": "code",
      "metadata": {
        "id": "HDvstuGTwU9g",
        "colab_type": "code",
        "colab": {
          "base_uri": "https://localhost:8080/",
          "height": 105
        },
        "outputId": "2d475257-9574-4b28-8593-c5ebaeb17e79"
      },
      "source": [
        "print('The median happiness score in 2015 was:', happyall.loc[2015]['Score'].median())\n",
        "print('The median happiness score in 2016 was:', happyall.loc[2016]['Score'].median())\n",
        "print('The median happiness score in 2017 was:', happyall.loc[2017]['Score'].median())\n",
        "print('The median happiness score in 2018 was:', happyall.loc[2018]['Score'].median())\n",
        "print('The median happiness score over time was:', happyall['Score'].median())"
      ],
      "execution_count": null,
      "outputs": [
        {
          "output_type": "stream",
          "text": [
            "The median happiness score in 2015 was: 5.2325\n",
            "The median happiness score in 2016 was: 5.314\n",
            "The median happiness score in 2017 was: 5.27899980545044\n",
            "The median happiness score in 2018 was: 5.378\n",
            "The median happiness score over time was: 5.306999935150145\n"
          ],
          "name": "stdout"
        }
      ]
    },
    {
      "cell_type": "markdown",
      "metadata": {
        "id": "7Msmasf0wwRz",
        "colab_type": "text"
      },
      "source": [
        "The average happiness score did not change very much over the five years recoreded here. The range is only aproximately 0.03. The median has a slightly larger range of 0.15. This shows that the happiness scores do shift a little bit over the years but not significantly. "
      ]
    },
    {
      "cell_type": "code",
      "metadata": {
        "id": "p9y9fedExI6j",
        "colab_type": "code",
        "colab": {
          "base_uri": "https://localhost:8080/",
          "height": 233
        },
        "outputId": "da73a3b8-aaef-4890-a267-ba107d4e7260"
      },
      "source": [
        "#Calculate the Spearman Rank Correlation Coefficients between each variable\n",
        "spearman_corr =  happyall.corr(method='spearman')\n",
        "spearman_corr"
      ],
      "execution_count": null,
      "outputs": [
        {
          "output_type": "execute_result",
          "data": {
            "text/html": [
              "<div>\n",
              "<style scoped>\n",
              "    .dataframe tbody tr th:only-of-type {\n",
              "        vertical-align: middle;\n",
              "    }\n",
              "\n",
              "    .dataframe tbody tr th {\n",
              "        vertical-align: top;\n",
              "    }\n",
              "\n",
              "    .dataframe thead th {\n",
              "        text-align: right;\n",
              "    }\n",
              "</style>\n",
              "<table border=\"1\" class=\"dataframe\">\n",
              "  <thead>\n",
              "    <tr style=\"text-align: right;\">\n",
              "      <th></th>\n",
              "      <th>Rank</th>\n",
              "      <th>Score</th>\n",
              "      <th>GDP</th>\n",
              "      <th>Health</th>\n",
              "      <th>Freedom</th>\n",
              "      <th>Generosity</th>\n",
              "    </tr>\n",
              "  </thead>\n",
              "  <tbody>\n",
              "    <tr>\n",
              "      <th>Rank</th>\n",
              "      <td>1.000000</td>\n",
              "      <td>-0.998882</td>\n",
              "      <td>-0.805794</td>\n",
              "      <td>-0.768613</td>\n",
              "      <td>-0.542690</td>\n",
              "      <td>-0.136587</td>\n",
              "    </tr>\n",
              "    <tr>\n",
              "      <th>Score</th>\n",
              "      <td>-0.998882</td>\n",
              "      <td>1.000000</td>\n",
              "      <td>0.804404</td>\n",
              "      <td>0.770034</td>\n",
              "      <td>0.542388</td>\n",
              "      <td>0.138225</td>\n",
              "    </tr>\n",
              "    <tr>\n",
              "      <th>GDP</th>\n",
              "      <td>-0.805794</td>\n",
              "      <td>0.804404</td>\n",
              "      <td>1.000000</td>\n",
              "      <td>0.815036</td>\n",
              "      <td>0.357481</td>\n",
              "      <td>0.009884</td>\n",
              "    </tr>\n",
              "    <tr>\n",
              "      <th>Health</th>\n",
              "      <td>-0.768613</td>\n",
              "      <td>0.770034</td>\n",
              "      <td>0.815036</td>\n",
              "      <td>1.000000</td>\n",
              "      <td>0.380487</td>\n",
              "      <td>0.059073</td>\n",
              "    </tr>\n",
              "    <tr>\n",
              "      <th>Freedom</th>\n",
              "      <td>-0.542690</td>\n",
              "      <td>0.542388</td>\n",
              "      <td>0.357481</td>\n",
              "      <td>0.380487</td>\n",
              "      <td>1.000000</td>\n",
              "      <td>0.327990</td>\n",
              "    </tr>\n",
              "    <tr>\n",
              "      <th>Generosity</th>\n",
              "      <td>-0.136587</td>\n",
              "      <td>0.138225</td>\n",
              "      <td>0.009884</td>\n",
              "      <td>0.059073</td>\n",
              "      <td>0.327990</td>\n",
              "      <td>1.000000</td>\n",
              "    </tr>\n",
              "  </tbody>\n",
              "</table>\n",
              "</div>"
            ],
            "text/plain": [
              "                Rank     Score       GDP    Health   Freedom  Generosity\n",
              "Rank        1.000000 -0.998882 -0.805794 -0.768613 -0.542690   -0.136587\n",
              "Score      -0.998882  1.000000  0.804404  0.770034  0.542388    0.138225\n",
              "GDP        -0.805794  0.804404  1.000000  0.815036  0.357481    0.009884\n",
              "Health     -0.768613  0.770034  0.815036  1.000000  0.380487    0.059073\n",
              "Freedom    -0.542690  0.542388  0.357481  0.380487  1.000000    0.327990\n",
              "Generosity -0.136587  0.138225  0.009884  0.059073  0.327990    1.000000"
            ]
          },
          "metadata": {
            "tags": []
          },
          "execution_count": 17
        }
      ]
    },
    {
      "cell_type": "code",
      "metadata": {
        "id": "M8EqQ2OM1q-Q",
        "colab_type": "code",
        "colab": {
          "base_uri": "https://localhost:8080/",
          "height": 331
        },
        "outputId": "d6c4f91a-8c22-4a7e-f44c-e383ea029a6e"
      },
      "source": [
        "#Create a heat map to help visualize the relationships\n",
        "sns.heatmap(spearman_corr, annot = True)"
      ],
      "execution_count": null,
      "outputs": [
        {
          "output_type": "execute_result",
          "data": {
            "text/plain": [
              "<matplotlib.axes._subplots.AxesSubplot at 0x7f16c183d358>"
            ]
          },
          "metadata": {
            "tags": []
          },
          "execution_count": 18
        },
        {
          "output_type": "display_data",
          "data": {
            "image/png": "[encoded data removed]",
            "text/plain": [
              "<Figure size 432x288 with 2 Axes>"
            ]
          },
          "metadata": {
            "tags": [],
            "needs_background": "light"
          }
        }
      ]
    },
    {
      "cell_type": "markdown",
      "metadata": {
        "id": "qWHH0HKJ1jmr",
        "colab_type": "text"
      },
      "source": [
        "I calculated the spearman correlation matrix. I chose this method of correlation because the final happiness score is ranked, which leads me to believe the rank of the other scores is valuable as well. It makes sense that the correlations between any variable and its score/rank are negatives of eachother. This is because as score becomes a higher number the rank should get lower. The most important correlations to study here is the relationship between each variable and its happiness score. Based on this, GDP and Health have the two highest correlations. This leads me to believe that these two variables contribute the most to the overall happiness score. "
      ]
    },
    {
      "cell_type": "markdown",
      "metadata": {
        "id": "fbBey0cE5NBT",
        "colab_type": "text"
      },
      "source": [
        "Next, I will visualize the relationship between happiness scores and some of the other variables. These will be used to confirm the data collected from the correlation matrix. "
      ]
    },
    {
      "cell_type": "code",
      "metadata": {
        "id": "AIJBbSE15L2q",
        "colab_type": "code",
        "colab": {
          "base_uri": "https://localhost:8080/",
          "height": 313
        },
        "outputId": "bc90c695-ca2f-4e49-b1b2-72985c3d280a"
      },
      "source": [
        "plt.scatter(happyall['Score'], happyall['GDP'])\n",
        "plt.xlabel('Happiness Score')\n",
        "plt.ylabel('National GDP')\n",
        "plt.title('Happiness Score vs. GDP')"
      ],
      "execution_count": null,
      "outputs": [
        {
          "output_type": "execute_result",
          "data": {
            "text/plain": [
              "Text(0.5, 1.0, 'Happiness Score vs. GDP')"
            ]
          },
          "metadata": {
            "tags": []
          },
          "execution_count": 19
        },
        {
          "output_type": "display_data",
          "data": {
            "image/png": "[encoded data removed]",
            "text/plain": [
              "<Figure size 432x288 with 1 Axes>"
            ]
          },
          "metadata": {
            "tags": [],
            "needs_background": "light"
          }
        }
      ]
    },
    {
      "cell_type": "markdown",
      "metadata": {
        "id": "pNIE8Gj16Xxw",
        "colab_type": "text"
      },
      "source": [
        "This plot shows the relatively high positive correlation between a country's happiness score and its GDP. This confirms that a higher GDP tends to mean greater happiness. "
      ]
    },
    {
      "cell_type": "code",
      "metadata": {
        "id": "UBhtLssS6p6Y",
        "colab_type": "code",
        "colab": {
          "base_uri": "https://localhost:8080/",
          "height": 313
        },
        "outputId": "81b17110-bcc9-4f52-b52e-15c927480364"
      },
      "source": [
        "plt.scatter(happyall['Score'], happyall['Health'])\n",
        "plt.xlabel('Happiness Score')\n",
        "plt.ylabel('Health')\n",
        "plt.title('Happiness Score vs. Health')"
      ],
      "execution_count": null,
      "outputs": [
        {
          "output_type": "execute_result",
          "data": {
            "text/plain": [
              "Text(0.5, 1.0, 'Happiness Score vs. Health')"
            ]
          },
          "metadata": {
            "tags": []
          },
          "execution_count": 20
        },
        {
          "output_type": "display_data",
          "data": {
            "image/png": "[encoded data removed]",
            "text/plain": [
              "<Figure size 432x288 with 1 Axes>"
            ]
          },
          "metadata": {
            "tags": [],
            "needs_background": "light"
          }
        }
      ]
    },
    {
      "cell_type": "markdown",
      "metadata": {
        "id": "x25KoF5Z6yEa",
        "colab_type": "text"
      },
      "source": [
        "The data in this plot is a little more spread out than the data in the GDP plot. However, the positive correlation between the two variables is easy to see. "
      ]
    },
    {
      "cell_type": "code",
      "metadata": {
        "id": "I6_KGqHP7ohq",
        "colab_type": "code",
        "colab": {
          "base_uri": "https://localhost:8080/",
          "height": 313
        },
        "outputId": "a7c14c63-ccd5-4131-d657-496082889b07"
      },
      "source": [
        "plt.scatter(happyall['Score'], happyall['Generosity'])\n",
        "plt.xlabel('Happiness Score')\n",
        "plt.ylabel('Generosity')\n",
        "plt.title('Happiness Score vs. Generosity')"
      ],
      "execution_count": null,
      "outputs": [
        {
          "output_type": "execute_result",
          "data": {
            "text/plain": [
              "Text(0.5, 1.0, 'Happiness Score vs. Generosity')"
            ]
          },
          "metadata": {
            "tags": []
          },
          "execution_count": 21
        },
        {
          "output_type": "display_data",
          "data": {
            "image/png": "[encoded data removed]",
            "text/plain": [
              "<Figure size 432x288 with 1 Axes>"
            ]
          },
          "metadata": {
            "tags": [],
            "needs_background": "light"
          }
        }
      ]
    },
    {
      "cell_type": "markdown",
      "metadata": {
        "id": "y_Xfg7OU8TW9",
        "colab_type": "text"
      },
      "source": [
        "This plot is all over the place. There is not a linear relationship between happiness score and generosity. The shape of this graph looks almost quadratic, with the minimum around a score of 5. This may make sense because as shown with past graphs, countries that are less happy have lower GDPs. Therefore they may need to rely on generosity more in order to survive. The happiest countries likely have higher generosity scores because they can afford to help eachother. "
      ]
    },
    {
      "cell_type": "markdown",
      "metadata": {
        "id": "ycCmFGbiG4Wo",
        "colab_type": "text"
      },
      "source": [
        "Here, I will look at how the ranks of the top (Switzerland) and bottom (Togo) countries from 2015 change over the years. "
      ]
    },
    {
      "cell_type": "code",
      "metadata": {
        "id": "qbF9O-0THDf8",
        "colab_type": "code",
        "colab": {
          "base_uri": "https://localhost:8080/",
          "height": 203
        },
        "outputId": "0b83017f-f2a6-480b-d10f-acf9c165cba8"
      },
      "source": [
        "swi = happyall.loc[2015,'Switzerland', : ]\n",
        "swi = swi.append(happyall.loc[2016,'Switzerland', : ])\n",
        "swi = swi.append(happyall.loc[2017,'Switzerland', : ])\n",
        "swi = swi.append(happyall.loc[2018,'Switzerland', : ])\n",
        "swi"
      ],
      "execution_count": null,
      "outputs": [
        {
          "output_type": "execute_result",
          "data": {
            "text/html": [
              "<div>\n",
              "<style scoped>\n",
              "    .dataframe tbody tr th:only-of-type {\n",
              "        vertical-align: middle;\n",
              "    }\n",
              "\n",
              "    .dataframe tbody tr th {\n",
              "        vertical-align: top;\n",
              "    }\n",
              "\n",
              "    .dataframe thead th {\n",
              "        text-align: right;\n",
              "    }\n",
              "</style>\n",
              "<table border=\"1\" class=\"dataframe\">\n",
              "  <thead>\n",
              "    <tr style=\"text-align: right;\">\n",
              "      <th></th>\n",
              "      <th></th>\n",
              "      <th>Rank</th>\n",
              "      <th>Score</th>\n",
              "      <th>GDP</th>\n",
              "      <th>Health</th>\n",
              "      <th>Freedom</th>\n",
              "      <th>Generosity</th>\n",
              "    </tr>\n",
              "    <tr>\n",
              "      <th>Year</th>\n",
              "      <th>Country</th>\n",
              "      <th></th>\n",
              "      <th></th>\n",
              "      <th></th>\n",
              "      <th></th>\n",
              "      <th></th>\n",
              "      <th></th>\n",
              "    </tr>\n",
              "  </thead>\n",
              "  <tbody>\n",
              "    <tr>\n",
              "      <th>2015</th>\n",
              "      <th>Switzerland</th>\n",
              "      <td>1</td>\n",
              "      <td>7.587</td>\n",
              "      <td>1.39651</td>\n",
              "      <td>0.941430</td>\n",
              "      <td>0.665570</td>\n",
              "      <td>0.296780</td>\n",
              "    </tr>\n",
              "    <tr>\n",
              "      <th>2016</th>\n",
              "      <th>Switzerland</th>\n",
              "      <td>2</td>\n",
              "      <td>7.509</td>\n",
              "      <td>1.52733</td>\n",
              "      <td>0.863030</td>\n",
              "      <td>0.585570</td>\n",
              "      <td>0.280830</td>\n",
              "    </tr>\n",
              "    <tr>\n",
              "      <th>2017</th>\n",
              "      <th>Switzerland</th>\n",
              "      <td>4</td>\n",
              "      <td>7.494</td>\n",
              "      <td>1.56498</td>\n",
              "      <td>0.858131</td>\n",
              "      <td>0.620071</td>\n",
              "      <td>0.290549</td>\n",
              "    </tr>\n",
              "    <tr>\n",
              "      <th>2018</th>\n",
              "      <th>Switzerland</th>\n",
              "      <td>5</td>\n",
              "      <td>7.487</td>\n",
              "      <td>1.42000</td>\n",
              "      <td>0.927000</td>\n",
              "      <td>0.660000</td>\n",
              "      <td>0.256000</td>\n",
              "    </tr>\n",
              "  </tbody>\n",
              "</table>\n",
              "</div>"
            ],
            "text/plain": [
              "                  Rank  Score      GDP    Health   Freedom  Generosity\n",
              "Year Country                                                          \n",
              "2015 Switzerland     1  7.587  1.39651  0.941430  0.665570    0.296780\n",
              "2016 Switzerland     2  7.509  1.52733  0.863030  0.585570    0.280830\n",
              "2017 Switzerland     4  7.494  1.56498  0.858131  0.620071    0.290549\n",
              "2018 Switzerland     5  7.487  1.42000  0.927000  0.660000    0.256000"
            ]
          },
          "metadata": {
            "tags": []
          },
          "execution_count": 22
        }
      ]
    },
    {
      "cell_type": "markdown",
      "metadata": {
        "id": "yJ7-XQhsKbLZ",
        "colab_type": "text"
      },
      "source": [
        "Switzerland's rank decreases every year. This may impact the ability to make predictions about happiness rank since its scores are getting worse. "
      ]
    },
    {
      "cell_type": "code",
      "metadata": {
        "id": "46G5tprjKjLK",
        "colab_type": "code",
        "colab": {
          "base_uri": "https://localhost:8080/",
          "height": 203
        },
        "outputId": "66145f4b-d377-4619-8401-046de79dcb60"
      },
      "source": [
        "togo = happyall.loc[2015,'Togo', : ]\n",
        "togo = togo.append(happyall.loc[2016,'Togo', : ])\n",
        "togo = togo.append(happyall.loc[2017,'Togo', : ])\n",
        "togo = togo.append(happyall.loc[2018,'Togo', : ])\n",
        "togo"
      ],
      "execution_count": null,
      "outputs": [
        {
          "output_type": "execute_result",
          "data": {
            "text/html": [
              "<div>\n",
              "<style scoped>\n",
              "    .dataframe tbody tr th:only-of-type {\n",
              "        vertical-align: middle;\n",
              "    }\n",
              "\n",
              "    .dataframe tbody tr th {\n",
              "        vertical-align: top;\n",
              "    }\n",
              "\n",
              "    .dataframe thead th {\n",
              "        text-align: right;\n",
              "    }\n",
              "</style>\n",
              "<table border=\"1\" class=\"dataframe\">\n",
              "  <thead>\n",
              "    <tr style=\"text-align: right;\">\n",
              "      <th></th>\n",
              "      <th></th>\n",
              "      <th>Rank</th>\n",
              "      <th>Score</th>\n",
              "      <th>GDP</th>\n",
              "      <th>Health</th>\n",
              "      <th>Freedom</th>\n",
              "      <th>Generosity</th>\n",
              "    </tr>\n",
              "    <tr>\n",
              "      <th>Year</th>\n",
              "      <th>Country</th>\n",
              "      <th></th>\n",
              "      <th></th>\n",
              "      <th></th>\n",
              "      <th></th>\n",
              "      <th></th>\n",
              "      <th></th>\n",
              "    </tr>\n",
              "  </thead>\n",
              "  <tbody>\n",
              "    <tr>\n",
              "      <th>2015</th>\n",
              "      <th>Togo</th>\n",
              "      <td>158</td>\n",
              "      <td>2.839</td>\n",
              "      <td>0.208680</td>\n",
              "      <td>0.284430</td>\n",
              "      <td>0.364530</td>\n",
              "      <td>0.166810</td>\n",
              "    </tr>\n",
              "    <tr>\n",
              "      <th>2016</th>\n",
              "      <th>Togo</th>\n",
              "      <td>155</td>\n",
              "      <td>3.303</td>\n",
              "      <td>0.281230</td>\n",
              "      <td>0.248110</td>\n",
              "      <td>0.346780</td>\n",
              "      <td>0.175170</td>\n",
              "    </tr>\n",
              "    <tr>\n",
              "      <th>2017</th>\n",
              "      <th>Togo</th>\n",
              "      <td>150</td>\n",
              "      <td>3.495</td>\n",
              "      <td>0.305445</td>\n",
              "      <td>0.247106</td>\n",
              "      <td>0.380426</td>\n",
              "      <td>0.196896</td>\n",
              "    </tr>\n",
              "    <tr>\n",
              "      <th>2018</th>\n",
              "      <th>Togo</th>\n",
              "      <td>139</td>\n",
              "      <td>3.999</td>\n",
              "      <td>0.259000</td>\n",
              "      <td>0.253000</td>\n",
              "      <td>0.434000</td>\n",
              "      <td>0.158000</td>\n",
              "    </tr>\n",
              "  </tbody>\n",
              "</table>\n",
              "</div>"
            ],
            "text/plain": [
              "              Rank  Score       GDP    Health   Freedom  Generosity\n",
              "Year Country                                                       \n",
              "2015 Togo      158  2.839  0.208680  0.284430  0.364530    0.166810\n",
              "2016 Togo      155  3.303  0.281230  0.248110  0.346780    0.175170\n",
              "2017 Togo      150  3.495  0.305445  0.247106  0.380426    0.196896\n",
              "2018 Togo      139  3.999  0.259000  0.253000  0.434000    0.158000"
            ]
          },
          "metadata": {
            "tags": []
          },
          "execution_count": 23
        }
      ]
    },
    {
      "cell_type": "markdown",
      "metadata": {
        "id": "FUNJRxi-K1Ch",
        "colab_type": "text"
      },
      "source": [
        "Togo's rank improved significantly every year, especially between 2017 and 2018. This is interesting. "
      ]
    },
    {
      "cell_type": "markdown",
      "metadata": {
        "id": "GRo4zMcSLt6j",
        "colab_type": "text"
      },
      "source": [
        "Based on the data collected in this EDA, I think the factors that contribute most to happiness is a country's GDP and its health score. This makes sense to me because in the happier countries, people have the money to support themselves and the health to feel good. If I were the president of a country, I would make citizens happier using these two factors. First of all, I would implement universal health care. This would help people to stay healthy and be able to afford to take care of themselves if they got sick. Not being overcharged for health care would help the GDP! Also, I would do my best to stimulate the economy in order to grow the GDP. "
      ]
    },
    {
      "cell_type": "markdown",
      "metadata": {
        "id": "vsFv50mKMgg2",
        "colab_type": "text"
      },
      "source": [
        "**Modeling and Question Answering**"
      ]
    },
    {
      "cell_type": "markdown",
      "metadata": {
        "id": "fG3Tg0ZA-aIE",
        "colab_type": "text"
      },
      "source": [
        "Before running any of the machine learning algorithms, the training set and the test set must be split into the variables and the happiness score. I also dropped the rank column because it is basically the same as the happiness score and is not used in the calculation of the score. "
      ]
    },
    {
      "cell_type": "code",
      "metadata": {
        "id": "3y0ZB_DU-Wtu",
        "colab_type": "code",
        "colab": {}
      },
      "source": [
        "#Organize the training set\n",
        "train_variables = happyall.drop(columns = ['Rank', 'Score'])\n",
        "train_score = happyall.drop(columns = ['GDP', 'Health', 'Freedom', 'Generosity', 'Rank'])"
      ],
      "execution_count": null,
      "outputs": []
    },
    {
      "cell_type": "code",
      "metadata": {
        "id": "4PW_uH38_3Ur",
        "colab_type": "code",
        "colab": {}
      },
      "source": [
        "#Organize the test set\n",
        "test_variables = happy19.drop(columns = ['Rank', 'Score'])\n",
        "test_score = happy19.drop(columns = ['GDP', 'Health', 'Freedom', 'Generosity', 'Rank'])"
      ],
      "execution_count": null,
      "outputs": []
    },
    {
      "cell_type": "markdown",
      "metadata": {
        "id": "jOTHvvuq97eo",
        "colab_type": "text"
      },
      "source": [
        "The first model I tested is mulitple linear regression. Mulitple linear regression is a model that summarizes the relationship between a set of independent variables and a dependent variable. This is done by calculating the best fit line by minimizing the sum of squares of the residuals. In order for this model to be accurate, the relationship between the variables must be linear. The coefficients show the direction of the relationship between each independent variable and the dependent variable."
      ]
    },
    {
      "cell_type": "code",
      "metadata": {
        "id": "N9S2jf-H7oqC",
        "colab_type": "code",
        "colab": {
          "base_uri": "https://localhost:8080/",
          "height": 35
        },
        "outputId": "bbd10734-4465-4258-fec3-411c346c9ef8"
      },
      "source": [
        "#Calculate the regression model\n",
        "regressor = LinearRegression()  \n",
        "regressor.fit(train_variables, train_score)"
      ],
      "execution_count": null,
      "outputs": [
        {
          "output_type": "execute_result",
          "data": {
            "text/plain": [
              "LinearRegression(copy_X=True, fit_intercept=True, n_jobs=None, normalize=False)"
            ]
          },
          "metadata": {
            "tags": []
          },
          "execution_count": 26
        }
      ]
    },
    {
      "cell_type": "code",
      "metadata": {
        "id": "CKUjezAUAvvG",
        "colab_type": "code",
        "colab": {
          "base_uri": "https://localhost:8080/",
          "height": 79
        },
        "outputId": "72834d6d-4570-4afe-8f05-10c92a081dc5"
      },
      "source": [
        "#Show the coefficients of each variable\n",
        "coeff_df = pd.DataFrame(regressor.coef_)  \n",
        "coeff_df = coeff_df.rename(columns={0:'GDP', 1:'Health', 2:'Freedom', 3:'Generosity'})\n",
        "coeff_df"
      ],
      "execution_count": null,
      "outputs": [
        {
          "output_type": "execute_result",
          "data": {
            "text/html": [
              "<div>\n",
              "<style scoped>\n",
              "    .dataframe tbody tr th:only-of-type {\n",
              "        vertical-align: middle;\n",
              "    }\n",
              "\n",
              "    .dataframe tbody tr th {\n",
              "        vertical-align: top;\n",
              "    }\n",
              "\n",
              "    .dataframe thead th {\n",
              "        text-align: right;\n",
              "    }\n",
              "</style>\n",
              "<table border=\"1\" class=\"dataframe\">\n",
              "  <thead>\n",
              "    <tr style=\"text-align: right;\">\n",
              "      <th></th>\n",
              "      <th>GDP</th>\n",
              "      <th>Health</th>\n",
              "      <th>Freedom</th>\n",
              "      <th>Generosity</th>\n",
              "    </tr>\n",
              "  </thead>\n",
              "  <tbody>\n",
              "    <tr>\n",
              "      <th>0</th>\n",
              "      <td>1.349615</td>\n",
              "      <td>1.214187</td>\n",
              "      <td>2.025352</td>\n",
              "      <td>0.542277</td>\n",
              "    </tr>\n",
              "  </tbody>\n",
              "</table>\n",
              "</div>"
            ],
            "text/plain": [
              "        GDP    Health   Freedom  Generosity\n",
              "0  1.349615  1.214187  2.025352    0.542277"
            ]
          },
          "metadata": {
            "tags": []
          },
          "execution_count": 27
        }
      ]
    },
    {
      "cell_type": "code",
      "metadata": {
        "id": "1BYUoG2NddRM",
        "colab_type": "code",
        "colab": {
          "base_uri": "https://localhost:8080/",
          "height": 35
        },
        "outputId": "4bcaeb95-4ceb-4722-80c9-f262b80c4f9e"
      },
      "source": [
        "#Show the y intercept\n",
        "print(regressor.intercept_)"
      ],
      "execution_count": null,
      "outputs": [
        {
          "output_type": "stream",
          "text": [
            "[2.45755707]\n"
          ],
          "name": "stdout"
        }
      ]
    },
    {
      "cell_type": "code",
      "metadata": {
        "id": "k3dPLhX4N_NF",
        "colab_type": "code",
        "colab": {}
      },
      "source": [
        ""
      ],
      "execution_count": null,
      "outputs": []
    },
    {
      "cell_type": "markdown",
      "metadata": {
        "id": "xnEYAOuhDp5c",
        "colab_type": "text"
      },
      "source": [
        "According to this model, freedom has the highest impact on overall happiness score. This is surprising to me because during the EDA the correlatoin coefficients implied that GDP and health have the highest impact. The least impactful is generosity. "
      ]
    },
    {
      "cell_type": "code",
      "metadata": {
        "id": "BQRnmm9kDsTO",
        "colab_type": "code",
        "colab": {
          "base_uri": "https://localhost:8080/",
          "height": 465
        },
        "outputId": "031bdec5-c384-41dd-ae4d-9d89c03084a7"
      },
      "source": [
        "#Calculate the score predictions for 2019 and put them in a DF so the two scores can be compared\n",
        "LR_pred = regressor.predict(test_variables)\n",
        "compare = test_score.copy()\n",
        "compare.insert(1,'Prediction', LR_pred)\n",
        "print('The actual scores and the predicted scores in 2019')\n",
        "compare"
      ],
      "execution_count": null,
      "outputs": [
        {
          "output_type": "stream",
          "text": [
            "The actual scores and the predicted scores in 2019\n"
          ],
          "name": "stdout"
        },
        {
          "output_type": "execute_result",
          "data": {
            "text/html": [
              "<div>\n",
              "<style scoped>\n",
              "    .dataframe tbody tr th:only-of-type {\n",
              "        vertical-align: middle;\n",
              "    }\n",
              "\n",
              "    .dataframe tbody tr th {\n",
              "        vertical-align: top;\n",
              "    }\n",
              "\n",
              "    .dataframe thead th {\n",
              "        text-align: right;\n",
              "    }\n",
              "</style>\n",
              "<table border=\"1\" class=\"dataframe\">\n",
              "  <thead>\n",
              "    <tr style=\"text-align: right;\">\n",
              "      <th></th>\n",
              "      <th></th>\n",
              "      <th>Score</th>\n",
              "      <th>Prediction</th>\n",
              "    </tr>\n",
              "    <tr>\n",
              "      <th>Year</th>\n",
              "      <th>Country</th>\n",
              "      <th></th>\n",
              "      <th></th>\n",
              "    </tr>\n",
              "  </thead>\n",
              "  <tbody>\n",
              "    <tr>\n",
              "      <th rowspan=\"11\" valign=\"top\">2019</th>\n",
              "      <th>Finland</th>\n",
              "      <td>7.769</td>\n",
              "      <td>6.753308</td>\n",
              "    </tr>\n",
              "    <tr>\n",
              "      <th>Denmark</th>\n",
              "      <td>7.600</td>\n",
              "      <td>6.869068</td>\n",
              "    </tr>\n",
              "    <tr>\n",
              "      <th>Norway</th>\n",
              "      <td>7.554</td>\n",
              "      <td>7.082214</td>\n",
              "    </tr>\n",
              "    <tr>\n",
              "      <th>Iceland</th>\n",
              "      <td>7.494</td>\n",
              "      <td>6.954731</td>\n",
              "    </tr>\n",
              "    <tr>\n",
              "      <th>Netherlands</th>\n",
              "      <td>7.488</td>\n",
              "      <td>6.857327</td>\n",
              "    </tr>\n",
              "    <tr>\n",
              "      <th>...</th>\n",
              "      <td>...</td>\n",
              "      <td>...</td>\n",
              "    </tr>\n",
              "    <tr>\n",
              "      <th>Rwanda</th>\n",
              "      <td>3.334</td>\n",
              "      <td>4.929324</td>\n",
              "    </tr>\n",
              "    <tr>\n",
              "      <th>Tanzania</th>\n",
              "      <td>3.231</td>\n",
              "      <td>4.700094</td>\n",
              "    </tr>\n",
              "    <tr>\n",
              "      <th>Afghanistan</th>\n",
              "      <td>3.203</td>\n",
              "      <td>3.453924</td>\n",
              "    </tr>\n",
              "    <tr>\n",
              "      <th>Central African Republic</th>\n",
              "      <td>3.083</td>\n",
              "      <td>3.203276</td>\n",
              "    </tr>\n",
              "    <tr>\n",
              "      <th>South Sudan</th>\n",
              "      <td>2.853</td>\n",
              "      <td>3.358518</td>\n",
              "    </tr>\n",
              "  </tbody>\n",
              "</table>\n",
              "<p>156 rows × 2 columns</p>\n",
              "</div>"
            ],
            "text/plain": [
              "                               Score  Prediction\n",
              "Year Country                                    \n",
              "2019 Finland                   7.769    6.753308\n",
              "     Denmark                   7.600    6.869068\n",
              "     Norway                    7.554    7.082214\n",
              "     Iceland                   7.494    6.954731\n",
              "     Netherlands               7.488    6.857327\n",
              "...                              ...         ...\n",
              "     Rwanda                    3.334    4.929324\n",
              "     Tanzania                  3.231    4.700094\n",
              "     Afghanistan               3.203    3.453924\n",
              "     Central African Republic  3.083    3.203276\n",
              "     South Sudan               2.853    3.358518\n",
              "\n",
              "[156 rows x 2 columns]"
            ]
          },
          "metadata": {
            "tags": []
          },
          "execution_count": 29
        }
      ]
    },
    {
      "cell_type": "markdown",
      "metadata": {
        "id": "oKDElTd_LybZ",
        "colab_type": "text"
      },
      "source": [
        "Based on a preliminary look at the data, the linear regression model does not seem to be super accurate. From here, the mean absolute error, mean square error, and root mean square error are calculated to numerically evaluate the performance of the algorithm. "
      ]
    },
    {
      "cell_type": "code",
      "metadata": {
        "id": "MxZNHUf7MN-i",
        "colab_type": "code",
        "colab": {
          "base_uri": "https://localhost:8080/",
          "height": 87
        },
        "outputId": "0dfe59bb-37ac-4954-8f03-f60600b6d480"
      },
      "source": [
        "#Calculate values to evaluate the model\n",
        "print('Mean Absolute Error:', metrics.mean_absolute_error(compare['Score'], compare['Prediction']))  \n",
        "print('Mean Squared Error:', metrics.mean_squared_error(compare['Score'], compare['Prediction']))  \n",
        "print('Root Mean Squared Error:', np.sqrt(metrics.mean_squared_error(compare['Score'], compare['Prediction'])))\n",
        "print('10% of the mean of the predicted values:', compare['Prediction'].mean()*.1)"
      ],
      "execution_count": null,
      "outputs": [
        {
          "output_type": "stream",
          "text": [
            "Mean Absolute Error: 0.4404018385603312\n",
            "Mean Squared Error: 0.3179461232687731\n",
            "Root Mean Squared Error: 0.5638671149027695\n",
            "10% of the mean of the predicted values: 0.5455070737861882\n"
          ],
          "name": "stdout"
        }
      ]
    },
    {
      "cell_type": "markdown",
      "metadata": {
        "id": "vbpDw3J1PMMP",
        "colab_type": "text"
      },
      "source": [
        "When comparing the root mean squared error to 10% of the mean value, they are about the same. This leads me to believe that the model is not very accurate but can still make relevant predictions. "
      ]
    },
    {
      "cell_type": "code",
      "metadata": {
        "id": "t--SXnTQPLTp",
        "colab_type": "code",
        "colab": {
          "base_uri": "https://localhost:8080/",
          "height": 465
        },
        "outputId": "6d497b75-5ca5-4654-c3f3-cf2a439d5a1c"
      },
      "source": [
        "compare = compare.drop(columns=['Score'])\n",
        "compare = compare.sort_values(by=['Prediction'], ascending = False)\n",
        "print('The countries ranked by their predicted scores for 2019')\n",
        "compare"
      ],
      "execution_count": null,
      "outputs": [
        {
          "output_type": "stream",
          "text": [
            "The countries ranked by their predicted scores for 2019\n"
          ],
          "name": "stdout"
        },
        {
          "output_type": "execute_result",
          "data": {
            "text/html": [
              "<div>\n",
              "<style scoped>\n",
              "    .dataframe tbody tr th:only-of-type {\n",
              "        vertical-align: middle;\n",
              "    }\n",
              "\n",
              "    .dataframe tbody tr th {\n",
              "        vertical-align: top;\n",
              "    }\n",
              "\n",
              "    .dataframe thead th {\n",
              "        text-align: right;\n",
              "    }\n",
              "</style>\n",
              "<table border=\"1\" class=\"dataframe\">\n",
              "  <thead>\n",
              "    <tr style=\"text-align: right;\">\n",
              "      <th></th>\n",
              "      <th></th>\n",
              "      <th>Prediction</th>\n",
              "    </tr>\n",
              "    <tr>\n",
              "      <th>Year</th>\n",
              "      <th>Country</th>\n",
              "      <th></th>\n",
              "    </tr>\n",
              "  </thead>\n",
              "  <tbody>\n",
              "    <tr>\n",
              "      <th rowspan=\"11\" valign=\"top\">2019</th>\n",
              "      <th>Singapore</th>\n",
              "      <td>7.237593</td>\n",
              "    </tr>\n",
              "    <tr>\n",
              "      <th>Norway</th>\n",
              "      <td>7.082214</td>\n",
              "    </tr>\n",
              "    <tr>\n",
              "      <th>Qatar</th>\n",
              "      <td>7.031238</td>\n",
              "    </tr>\n",
              "    <tr>\n",
              "      <th>Luxembourg</th>\n",
              "      <td>7.028383</td>\n",
              "    </tr>\n",
              "    <tr>\n",
              "      <th>Switzerland</th>\n",
              "      <td>6.995644</td>\n",
              "    </tr>\n",
              "    <tr>\n",
              "      <th>...</th>\n",
              "      <td>...</td>\n",
              "    </tr>\n",
              "    <tr>\n",
              "      <th>Chad</th>\n",
              "      <td>3.622829</td>\n",
              "    </tr>\n",
              "    <tr>\n",
              "      <th>Burundi</th>\n",
              "      <td>3.522049</td>\n",
              "    </tr>\n",
              "    <tr>\n",
              "      <th>Afghanistan</th>\n",
              "      <td>3.453924</td>\n",
              "    </tr>\n",
              "    <tr>\n",
              "      <th>South Sudan</th>\n",
              "      <td>3.358518</td>\n",
              "    </tr>\n",
              "    <tr>\n",
              "      <th>Central African Republic</th>\n",
              "      <td>3.203276</td>\n",
              "    </tr>\n",
              "  </tbody>\n",
              "</table>\n",
              "<p>156 rows × 1 columns</p>\n",
              "</div>"
            ],
            "text/plain": [
              "                               Prediction\n",
              "Year Country                             \n",
              "2019 Singapore                   7.237593\n",
              "     Norway                      7.082214\n",
              "     Qatar                       7.031238\n",
              "     Luxembourg                  7.028383\n",
              "     Switzerland                 6.995644\n",
              "...                                   ...\n",
              "     Chad                        3.622829\n",
              "     Burundi                     3.522049\n",
              "     Afghanistan                 3.453924\n",
              "     South Sudan                 3.358518\n",
              "     Central African Republic    3.203276\n",
              "\n",
              "[156 rows x 1 columns]"
            ]
          },
          "metadata": {
            "tags": []
          },
          "execution_count": 31
        }
      ]
    },
    {
      "cell_type": "code",
      "metadata": {
        "id": "aNAWbvhpQ8AY",
        "colab_type": "code",
        "colab": {
          "base_uri": "https://localhost:8080/",
          "height": 465
        },
        "outputId": "957c9ee8-d3d9-4fb4-cab0-d389fff52837"
      },
      "source": [
        "print('The countries ranked by their actual scores for 2019')\n",
        "test_score"
      ],
      "execution_count": null,
      "outputs": [
        {
          "output_type": "stream",
          "text": [
            "The countries ranked by their actual scores for 2019\n"
          ],
          "name": "stdout"
        },
        {
          "output_type": "execute_result",
          "data": {
            "text/html": [
              "<div>\n",
              "<style scoped>\n",
              "    .dataframe tbody tr th:only-of-type {\n",
              "        vertical-align: middle;\n",
              "    }\n",
              "\n",
              "    .dataframe tbody tr th {\n",
              "        vertical-align: top;\n",
              "    }\n",
              "\n",
              "    .dataframe thead th {\n",
              "        text-align: right;\n",
              "    }\n",
              "</style>\n",
              "<table border=\"1\" class=\"dataframe\">\n",
              "  <thead>\n",
              "    <tr style=\"text-align: right;\">\n",
              "      <th></th>\n",
              "      <th></th>\n",
              "      <th>Score</th>\n",
              "    </tr>\n",
              "    <tr>\n",
              "      <th>Year</th>\n",
              "      <th>Country</th>\n",
              "      <th></th>\n",
              "    </tr>\n",
              "  </thead>\n",
              "  <tbody>\n",
              "    <tr>\n",
              "      <th rowspan=\"11\" valign=\"top\">2019</th>\n",
              "      <th>Finland</th>\n",
              "      <td>7.769</td>\n",
              "    </tr>\n",
              "    <tr>\n",
              "      <th>Denmark</th>\n",
              "      <td>7.600</td>\n",
              "    </tr>\n",
              "    <tr>\n",
              "      <th>Norway</th>\n",
              "      <td>7.554</td>\n",
              "    </tr>\n",
              "    <tr>\n",
              "      <th>Iceland</th>\n",
              "      <td>7.494</td>\n",
              "    </tr>\n",
              "    <tr>\n",
              "      <th>Netherlands</th>\n",
              "      <td>7.488</td>\n",
              "    </tr>\n",
              "    <tr>\n",
              "      <th>...</th>\n",
              "      <td>...</td>\n",
              "    </tr>\n",
              "    <tr>\n",
              "      <th>Rwanda</th>\n",
              "      <td>3.334</td>\n",
              "    </tr>\n",
              "    <tr>\n",
              "      <th>Tanzania</th>\n",
              "      <td>3.231</td>\n",
              "    </tr>\n",
              "    <tr>\n",
              "      <th>Afghanistan</th>\n",
              "      <td>3.203</td>\n",
              "    </tr>\n",
              "    <tr>\n",
              "      <th>Central African Republic</th>\n",
              "      <td>3.083</td>\n",
              "    </tr>\n",
              "    <tr>\n",
              "      <th>South Sudan</th>\n",
              "      <td>2.853</td>\n",
              "    </tr>\n",
              "  </tbody>\n",
              "</table>\n",
              "<p>156 rows × 1 columns</p>\n",
              "</div>"
            ],
            "text/plain": [
              "                               Score\n",
              "Year Country                        \n",
              "2019 Finland                   7.769\n",
              "     Denmark                   7.600\n",
              "     Norway                    7.554\n",
              "     Iceland                   7.494\n",
              "     Netherlands               7.488\n",
              "...                              ...\n",
              "     Rwanda                    3.334\n",
              "     Tanzania                  3.231\n",
              "     Afghanistan               3.203\n",
              "     Central African Republic  3.083\n",
              "     South Sudan               2.853\n",
              "\n",
              "[156 rows x 1 columns]"
            ]
          },
          "metadata": {
            "tags": []
          },
          "execution_count": 32
        }
      ]
    },
    {
      "cell_type": "markdown",
      "metadata": {
        "id": "QLwPlaJkaoK1",
        "colab_type": "text"
      },
      "source": [
        "As you can see above, the top 5 ranks and the bottom 5 ranks are completely different between the actual data and the predicted data. Hopefully another algorithm will be more accurate. "
      ]
    },
    {
      "cell_type": "markdown",
      "metadata": {
        "id": "gUDmiU9wbMKm",
        "colab_type": "text"
      },
      "source": [
        "The second machine learning algorithm is support vector regression. Support vectors can be used for regression (which is what is done here) or classification. In regression, the algorithm uses the typical linear equation (y=mx+b) but also tries to minimize an error (e). As long as errors are less than e, they do not impact the quality of the solution. Support vector regression allows for nonlinear relationships by representing them as a hyperplane. "
      ]
    },
    {
      "cell_type": "code",
      "metadata": {
        "id": "1GfYeTaGnEqA",
        "colab_type": "code",
        "colab": {
          "base_uri": "https://localhost:8080/",
          "height": 107
        },
        "outputId": "6466ef1a-cd8f-4383-852d-920b1d6606dc"
      },
      "source": [
        "#Calculate the SVR model\n",
        "regressor = SVR()\n",
        "regressor.fit(train_variables, train_score)"
      ],
      "execution_count": null,
      "outputs": [
        {
          "output_type": "stream",
          "text": [
            "/usr/local/lib/python3.6/dist-packages/sklearn/utils/validation.py:760: DataConversionWarning: A column-vector y was passed when a 1d array was expected. Please change the shape of y to (n_samples, ), for example using ravel().\n",
            "  y = column_or_1d(y, warn=True)\n"
          ],
          "name": "stderr"
        },
        {
          "output_type": "execute_result",
          "data": {
            "text/plain": [
              "SVR(C=1.0, cache_size=200, coef0=0.0, degree=3, epsilon=0.1, gamma='scale',\n",
              "    kernel='rbf', max_iter=-1, shrinking=True, tol=0.001, verbose=False)"
            ]
          },
          "metadata": {
            "tags": []
          },
          "execution_count": 33
        }
      ]
    },
    {
      "cell_type": "code",
      "metadata": {
        "id": "OO5pt9xlnZB5",
        "colab_type": "code",
        "colab": {}
      },
      "source": [
        "#Predict the 2019 happiness scores\n",
        "SVR_pred = regressor.predict(test_variables)"
      ],
      "execution_count": null,
      "outputs": []
    },
    {
      "cell_type": "code",
      "metadata": {
        "id": "MfCjFZ_os92b",
        "colab_type": "code",
        "colab": {
          "base_uri": "https://localhost:8080/",
          "height": 465
        },
        "outputId": "8161cdcb-d24a-4204-f58e-e7ebd6630596"
      },
      "source": [
        "#Create a DF to compare the scores\n",
        "compare2 = test_score.copy()\n",
        "compare2.insert(1,'Prediction', SVR_pred)\n",
        "print('The actual scores and the predicted scores in 2019')\n",
        "compare2"
      ],
      "execution_count": null,
      "outputs": [
        {
          "output_type": "stream",
          "text": [
            "The actual scores and the predicted scores in 2019\n"
          ],
          "name": "stdout"
        },
        {
          "output_type": "execute_result",
          "data": {
            "text/html": [
              "<div>\n",
              "<style scoped>\n",
              "    .dataframe tbody tr th:only-of-type {\n",
              "        vertical-align: middle;\n",
              "    }\n",
              "\n",
              "    .dataframe tbody tr th {\n",
              "        vertical-align: top;\n",
              "    }\n",
              "\n",
              "    .dataframe thead th {\n",
              "        text-align: right;\n",
              "    }\n",
              "</style>\n",
              "<table border=\"1\" class=\"dataframe\">\n",
              "  <thead>\n",
              "    <tr style=\"text-align: right;\">\n",
              "      <th></th>\n",
              "      <th></th>\n",
              "      <th>Score</th>\n",
              "      <th>Prediction</th>\n",
              "    </tr>\n",
              "    <tr>\n",
              "      <th>Year</th>\n",
              "      <th>Country</th>\n",
              "      <th></th>\n",
              "      <th></th>\n",
              "    </tr>\n",
              "  </thead>\n",
              "  <tbody>\n",
              "    <tr>\n",
              "      <th rowspan=\"11\" valign=\"top\">2019</th>\n",
              "      <th>Finland</th>\n",
              "      <td>7.769</td>\n",
              "      <td>6.693639</td>\n",
              "    </tr>\n",
              "    <tr>\n",
              "      <th>Denmark</th>\n",
              "      <td>7.600</td>\n",
              "      <td>6.940216</td>\n",
              "    </tr>\n",
              "    <tr>\n",
              "      <th>Norway</th>\n",
              "      <td>7.554</td>\n",
              "      <td>6.962506</td>\n",
              "    </tr>\n",
              "    <tr>\n",
              "      <th>Iceland</th>\n",
              "      <td>7.494</td>\n",
              "      <td>7.064675</td>\n",
              "    </tr>\n",
              "    <tr>\n",
              "      <th>Netherlands</th>\n",
              "      <td>7.488</td>\n",
              "      <td>6.974788</td>\n",
              "    </tr>\n",
              "    <tr>\n",
              "      <th>...</th>\n",
              "      <td>...</td>\n",
              "      <td>...</td>\n",
              "    </tr>\n",
              "    <tr>\n",
              "      <th>Rwanda</th>\n",
              "      <td>3.334</td>\n",
              "      <td>4.760182</td>\n",
              "    </tr>\n",
              "    <tr>\n",
              "      <th>Tanzania</th>\n",
              "      <td>3.231</td>\n",
              "      <td>4.629711</td>\n",
              "    </tr>\n",
              "    <tr>\n",
              "      <th>Afghanistan</th>\n",
              "      <td>3.203</td>\n",
              "      <td>3.710944</td>\n",
              "    </tr>\n",
              "    <tr>\n",
              "      <th>Central African Republic</th>\n",
              "      <td>3.083</td>\n",
              "      <td>3.726608</td>\n",
              "    </tr>\n",
              "    <tr>\n",
              "      <th>South Sudan</th>\n",
              "      <td>2.853</td>\n",
              "      <td>3.578461</td>\n",
              "    </tr>\n",
              "  </tbody>\n",
              "</table>\n",
              "<p>156 rows × 2 columns</p>\n",
              "</div>"
            ],
            "text/plain": [
              "                               Score  Prediction\n",
              "Year Country                                    \n",
              "2019 Finland                   7.769    6.693639\n",
              "     Denmark                   7.600    6.940216\n",
              "     Norway                    7.554    6.962506\n",
              "     Iceland                   7.494    7.064675\n",
              "     Netherlands               7.488    6.974788\n",
              "...                              ...         ...\n",
              "     Rwanda                    3.334    4.760182\n",
              "     Tanzania                  3.231    4.629711\n",
              "     Afghanistan               3.203    3.710944\n",
              "     Central African Republic  3.083    3.726608\n",
              "     South Sudan               2.853    3.578461\n",
              "\n",
              "[156 rows x 2 columns]"
            ]
          },
          "metadata": {
            "tags": []
          },
          "execution_count": 35
        }
      ]
    },
    {
      "cell_type": "markdown",
      "metadata": {
        "id": "ihAuJLPLu71s",
        "colab_type": "text"
      },
      "source": [
        "From this, the SVR model does not seem to be super accurate. From here, the mean absolute error, mean square error, and root mean square error are calculated to numerically evaluate the performance of the algorithm. "
      ]
    },
    {
      "cell_type": "code",
      "metadata": {
        "id": "n58r6ss9s-AU",
        "colab_type": "code",
        "colab": {
          "base_uri": "https://localhost:8080/",
          "height": 87
        },
        "outputId": "ddb7e94b-0848-4b1f-fd4e-ddf6f4be3f0d"
      },
      "source": [
        "#Calculate values to evaluate the model\n",
        "print('Mean Absolute Error:', metrics.mean_absolute_error(compare2['Score'], compare2['Prediction']))  \n",
        "print('Mean Squared Error:', metrics.mean_squared_error(compare2['Score'], compare2['Prediction']))  \n",
        "print('Root Mean Squared Error:', np.sqrt(metrics.mean_squared_error(compare2['Score'], compare2['Prediction'])))\n",
        "print('10% of the mean of the predicted values:', compare2['Prediction'].mean()*.1)"
      ],
      "execution_count": null,
      "outputs": [
        {
          "output_type": "stream",
          "text": [
            "Mean Absolute Error: 0.44257107495452286\n",
            "Mean Squared Error: 0.3017947799495671\n",
            "Root Mean Squared Error: 0.549358516771668\n",
            "10% of the mean of the predicted values: 0.5435310455485708\n"
          ],
          "name": "stdout"
        }
      ]
    },
    {
      "cell_type": "markdown",
      "metadata": {
        "id": "FvR8WrIdvy45",
        "colab_type": "text"
      },
      "source": [
        "Again, the mean sqaure value is about 10% of the mean predicted value. This means that this model seems to be about as accurate as the linear regression model. From here the rankings will be compared. "
      ]
    },
    {
      "cell_type": "code",
      "metadata": {
        "id": "dIMRQFtGwUD_",
        "colab_type": "code",
        "colab": {
          "base_uri": "https://localhost:8080/",
          "height": 465
        },
        "outputId": "eb6b23bf-c9d8-403c-f75a-11da0105129c"
      },
      "source": [
        "compare2 = compare2.drop(columns=['Score'])\n",
        "compare2 = compare2.sort_values(by=['Prediction'], ascending = False)\n",
        "print('The countries ranked by their predicted scores for 2019')\n",
        "compare2"
      ],
      "execution_count": null,
      "outputs": [
        {
          "output_type": "stream",
          "text": [
            "The countries ranked by their predicted scores for 2019\n"
          ],
          "name": "stdout"
        },
        {
          "output_type": "execute_result",
          "data": {
            "text/html": [
              "<div>\n",
              "<style scoped>\n",
              "    .dataframe tbody tr th:only-of-type {\n",
              "        vertical-align: middle;\n",
              "    }\n",
              "\n",
              "    .dataframe tbody tr th {\n",
              "        vertical-align: top;\n",
              "    }\n",
              "\n",
              "    .dataframe thead th {\n",
              "        text-align: right;\n",
              "    }\n",
              "</style>\n",
              "<table border=\"1\" class=\"dataframe\">\n",
              "  <thead>\n",
              "    <tr style=\"text-align: right;\">\n",
              "      <th></th>\n",
              "      <th></th>\n",
              "      <th>Prediction</th>\n",
              "    </tr>\n",
              "    <tr>\n",
              "      <th>Year</th>\n",
              "      <th>Country</th>\n",
              "      <th></th>\n",
              "    </tr>\n",
              "  </thead>\n",
              "  <tbody>\n",
              "    <tr>\n",
              "      <th rowspan=\"11\" valign=\"top\">2019</th>\n",
              "      <th>Iceland</th>\n",
              "      <td>7.064675</td>\n",
              "    </tr>\n",
              "    <tr>\n",
              "      <th>United Arab Emirates</th>\n",
              "      <td>7.038653</td>\n",
              "    </tr>\n",
              "    <tr>\n",
              "      <th>Netherlands</th>\n",
              "      <td>6.974788</td>\n",
              "    </tr>\n",
              "    <tr>\n",
              "      <th>Norway</th>\n",
              "      <td>6.962506</td>\n",
              "    </tr>\n",
              "    <tr>\n",
              "      <th>Malta</th>\n",
              "      <td>6.954921</td>\n",
              "    </tr>\n",
              "    <tr>\n",
              "      <th>...</th>\n",
              "      <td>...</td>\n",
              "    </tr>\n",
              "    <tr>\n",
              "      <th>Chad</th>\n",
              "      <td>3.750688</td>\n",
              "    </tr>\n",
              "    <tr>\n",
              "      <th>Central African Republic</th>\n",
              "      <td>3.726608</td>\n",
              "    </tr>\n",
              "    <tr>\n",
              "      <th>Afghanistan</th>\n",
              "      <td>3.710944</td>\n",
              "    </tr>\n",
              "    <tr>\n",
              "      <th>Burundi</th>\n",
              "      <td>3.709792</td>\n",
              "    </tr>\n",
              "    <tr>\n",
              "      <th>South Sudan</th>\n",
              "      <td>3.578461</td>\n",
              "    </tr>\n",
              "  </tbody>\n",
              "</table>\n",
              "<p>156 rows × 1 columns</p>\n",
              "</div>"
            ],
            "text/plain": [
              "                               Prediction\n",
              "Year Country                             \n",
              "2019 Iceland                     7.064675\n",
              "     United Arab Emirates        7.038653\n",
              "     Netherlands                 6.974788\n",
              "     Norway                      6.962506\n",
              "     Malta                       6.954921\n",
              "...                                   ...\n",
              "     Chad                        3.750688\n",
              "     Central African Republic    3.726608\n",
              "     Afghanistan                 3.710944\n",
              "     Burundi                     3.709792\n",
              "     South Sudan                 3.578461\n",
              "\n",
              "[156 rows x 1 columns]"
            ]
          },
          "metadata": {
            "tags": []
          },
          "execution_count": 37
        }
      ]
    },
    {
      "cell_type": "code",
      "metadata": {
        "id": "LTw6wLIMwi3Y",
        "colab_type": "code",
        "colab": {
          "base_uri": "https://localhost:8080/",
          "height": 465
        },
        "outputId": "ac87af68-05a7-4664-f316-9868fa692db8"
      },
      "source": [
        "print('The countries ranked by their actual scores for 2019')\n",
        "test_score"
      ],
      "execution_count": null,
      "outputs": [
        {
          "output_type": "stream",
          "text": [
            "The countries ranked by their actual scores for 2019\n"
          ],
          "name": "stdout"
        },
        {
          "output_type": "execute_result",
          "data": {
            "text/html": [
              "<div>\n",
              "<style scoped>\n",
              "    .dataframe tbody tr th:only-of-type {\n",
              "        vertical-align: middle;\n",
              "    }\n",
              "\n",
              "    .dataframe tbody tr th {\n",
              "        vertical-align: top;\n",
              "    }\n",
              "\n",
              "    .dataframe thead th {\n",
              "        text-align: right;\n",
              "    }\n",
              "</style>\n",
              "<table border=\"1\" class=\"dataframe\">\n",
              "  <thead>\n",
              "    <tr style=\"text-align: right;\">\n",
              "      <th></th>\n",
              "      <th></th>\n",
              "      <th>Score</th>\n",
              "    </tr>\n",
              "    <tr>\n",
              "      <th>Year</th>\n",
              "      <th>Country</th>\n",
              "      <th></th>\n",
              "    </tr>\n",
              "  </thead>\n",
              "  <tbody>\n",
              "    <tr>\n",
              "      <th rowspan=\"11\" valign=\"top\">2019</th>\n",
              "      <th>Finland</th>\n",
              "      <td>7.769</td>\n",
              "    </tr>\n",
              "    <tr>\n",
              "      <th>Denmark</th>\n",
              "      <td>7.600</td>\n",
              "    </tr>\n",
              "    <tr>\n",
              "      <th>Norway</th>\n",
              "      <td>7.554</td>\n",
              "    </tr>\n",
              "    <tr>\n",
              "      <th>Iceland</th>\n",
              "      <td>7.494</td>\n",
              "    </tr>\n",
              "    <tr>\n",
              "      <th>Netherlands</th>\n",
              "      <td>7.488</td>\n",
              "    </tr>\n",
              "    <tr>\n",
              "      <th>...</th>\n",
              "      <td>...</td>\n",
              "    </tr>\n",
              "    <tr>\n",
              "      <th>Rwanda</th>\n",
              "      <td>3.334</td>\n",
              "    </tr>\n",
              "    <tr>\n",
              "      <th>Tanzania</th>\n",
              "      <td>3.231</td>\n",
              "    </tr>\n",
              "    <tr>\n",
              "      <th>Afghanistan</th>\n",
              "      <td>3.203</td>\n",
              "    </tr>\n",
              "    <tr>\n",
              "      <th>Central African Republic</th>\n",
              "      <td>3.083</td>\n",
              "    </tr>\n",
              "    <tr>\n",
              "      <th>South Sudan</th>\n",
              "      <td>2.853</td>\n",
              "    </tr>\n",
              "  </tbody>\n",
              "</table>\n",
              "<p>156 rows × 1 columns</p>\n",
              "</div>"
            ],
            "text/plain": [
              "                               Score\n",
              "Year Country                        \n",
              "2019 Finland                   7.769\n",
              "     Denmark                   7.600\n",
              "     Norway                    7.554\n",
              "     Iceland                   7.494\n",
              "     Netherlands               7.488\n",
              "...                              ...\n",
              "     Rwanda                    3.334\n",
              "     Tanzania                  3.231\n",
              "     Afghanistan               3.203\n",
              "     Central African Republic  3.083\n",
              "     South Sudan               2.853\n",
              "\n",
              "[156 rows x 1 columns]"
            ]
          },
          "metadata": {
            "tags": []
          },
          "execution_count": 38
        }
      ]
    },
    {
      "cell_type": "markdown",
      "metadata": {
        "id": "fv-_qQsNxGGu",
        "colab_type": "text"
      },
      "source": [
        "Looking at the ranks, it seems like this model is more accurate for the countries with the worst ranks (for example South Sundan is last in both the prediction and the actual). However, in the best ranked countries there is very little overlap between the prediction and actual results. "
      ]
    },
    {
      "cell_type": "markdown",
      "metadata": {
        "id": "8aCRDMGPxcoy",
        "colab_type": "text"
      },
      "source": [
        "The third and final machine learning algorithm used is random forest. Random forest is based on the concept of decision trees. The algorithm builds a large number of trees (which is why it's called a forest) based on the different attributes in the data. From here, the algorithm takes the average result made by the forest as the final decision. This process works for both regression and classification! "
      ]
    },
    {
      "cell_type": "code",
      "metadata": {
        "id": "JPXMD58UMrv8",
        "colab_type": "code",
        "colab": {
          "base_uri": "https://localhost:8080/",
          "height": 195
        },
        "outputId": "2daa126f-9ed0-4661-9051-fec6d29e319b"
      },
      "source": [
        "#Calculate the RFR model\n",
        "regressor = RandomForestRegressor(n_estimators = 1000, random_state = 42)\n",
        "regressor.fit(train_variables, train_score)"
      ],
      "execution_count": null,
      "outputs": [
        {
          "output_type": "stream",
          "text": [
            "/usr/local/lib/python3.6/dist-packages/ipykernel_launcher.py:3: DataConversionWarning: A column-vector y was passed when a 1d array was expected. Please change the shape of y to (n_samples,), for example using ravel().\n",
            "  This is separate from the ipykernel package so we can avoid doing imports until\n"
          ],
          "name": "stderr"
        },
        {
          "output_type": "execute_result",
          "data": {
            "text/plain": [
              "RandomForestRegressor(bootstrap=True, ccp_alpha=0.0, criterion='mse',\n",
              "                      max_depth=None, max_features='auto', max_leaf_nodes=None,\n",
              "                      max_samples=None, min_impurity_decrease=0.0,\n",
              "                      min_impurity_split=None, min_samples_leaf=1,\n",
              "                      min_samples_split=2, min_weight_fraction_leaf=0.0,\n",
              "                      n_estimators=1000, n_jobs=None, oob_score=False,\n",
              "                      random_state=42, verbose=0, warm_start=False)"
            ]
          },
          "metadata": {
            "tags": []
          },
          "execution_count": 39
        }
      ]
    },
    {
      "cell_type": "code",
      "metadata": {
        "id": "eHhCSgUiKT8m",
        "colab_type": "code",
        "colab": {
          "base_uri": "https://localhost:8080/",
          "height": 172
        },
        "outputId": "02d2ce7d-6f76-4221-c96c-55c3d3f12661"
      },
      "source": [
        "#Determine which feaatures contribute most to this model\n",
        "features = pd.DataFrame(regressor.feature_importances_)  \n",
        "features = features.rename(columns={0:'Importance Value'})\n",
        "features.insert(column = 'Categories', value = ['GDP', 'Health', 'Freedom', 'Generosity'], loc = 1)\n",
        "features"
      ],
      "execution_count": null,
      "outputs": [
        {
          "output_type": "execute_result",
          "data": {
            "text/html": [
              "<div>\n",
              "<style scoped>\n",
              "    .dataframe tbody tr th:only-of-type {\n",
              "        vertical-align: middle;\n",
              "    }\n",
              "\n",
              "    .dataframe tbody tr th {\n",
              "        vertical-align: top;\n",
              "    }\n",
              "\n",
              "    .dataframe thead th {\n",
              "        text-align: right;\n",
              "    }\n",
              "</style>\n",
              "<table border=\"1\" class=\"dataframe\">\n",
              "  <thead>\n",
              "    <tr style=\"text-align: right;\">\n",
              "      <th></th>\n",
              "      <th>Importance Value</th>\n",
              "      <th>Categories</th>\n",
              "    </tr>\n",
              "  </thead>\n",
              "  <tbody>\n",
              "    <tr>\n",
              "      <th>0</th>\n",
              "      <td>0.432924</td>\n",
              "      <td>GDP</td>\n",
              "    </tr>\n",
              "    <tr>\n",
              "      <th>1</th>\n",
              "      <td>0.355963</td>\n",
              "      <td>Health</td>\n",
              "    </tr>\n",
              "    <tr>\n",
              "      <th>2</th>\n",
              "      <td>0.145214</td>\n",
              "      <td>Freedom</td>\n",
              "    </tr>\n",
              "    <tr>\n",
              "      <th>3</th>\n",
              "      <td>0.065899</td>\n",
              "      <td>Generosity</td>\n",
              "    </tr>\n",
              "  </tbody>\n",
              "</table>\n",
              "</div>"
            ],
            "text/plain": [
              "   Importance Value  Categories\n",
              "0          0.432924         GDP\n",
              "1          0.355963      Health\n",
              "2          0.145214     Freedom\n",
              "3          0.065899  Generosity"
            ]
          },
          "metadata": {
            "tags": []
          },
          "execution_count": 40
        }
      ]
    },
    {
      "cell_type": "markdown",
      "metadata": {
        "id": "ErxBFbq7NOT_",
        "colab_type": "text"
      },
      "source": [
        "This shows that based on this model the most important feature is the country's GDP and generosity is the least important. This aligns with the predictions made during the EDA. "
      ]
    },
    {
      "cell_type": "code",
      "metadata": {
        "id": "8rqEAJb_G63B",
        "colab_type": "code",
        "colab": {}
      },
      "source": [
        "#Calculate the score predictions for 2019 and put them in a DF so the two scores can be compared\n",
        "RFR_pred = regressor.predict(test_variables)"
      ],
      "execution_count": null,
      "outputs": []
    },
    {
      "cell_type": "code",
      "metadata": {
        "id": "y2qkj-1EJ8Ql",
        "colab_type": "code",
        "colab": {
          "base_uri": "https://localhost:8080/",
          "height": 465
        },
        "outputId": "05a987c9-d533-4df1-8975-eea3298f5f1c"
      },
      "source": [
        "#Create a DF to compare the scores\n",
        "compare3 = test_score.copy()\n",
        "compare3.insert(1,'Prediction', SVR_pred)\n",
        "print('The actual scores and the predicted scores in 2019')\n",
        "compare3"
      ],
      "execution_count": null,
      "outputs": [
        {
          "output_type": "stream",
          "text": [
            "The actual scores and the predicted scores in 2019\n"
          ],
          "name": "stdout"
        },
        {
          "output_type": "execute_result",
          "data": {
            "text/html": [
              "<div>\n",
              "<style scoped>\n",
              "    .dataframe tbody tr th:only-of-type {\n",
              "        vertical-align: middle;\n",
              "    }\n",
              "\n",
              "    .dataframe tbody tr th {\n",
              "        vertical-align: top;\n",
              "    }\n",
              "\n",
              "    .dataframe thead th {\n",
              "        text-align: right;\n",
              "    }\n",
              "</style>\n",
              "<table border=\"1\" class=\"dataframe\">\n",
              "  <thead>\n",
              "    <tr style=\"text-align: right;\">\n",
              "      <th></th>\n",
              "      <th></th>\n",
              "      <th>Score</th>\n",
              "      <th>Prediction</th>\n",
              "    </tr>\n",
              "    <tr>\n",
              "      <th>Year</th>\n",
              "      <th>Country</th>\n",
              "      <th></th>\n",
              "      <th></th>\n",
              "    </tr>\n",
              "  </thead>\n",
              "  <tbody>\n",
              "    <tr>\n",
              "      <th rowspan=\"11\" valign=\"top\">2019</th>\n",
              "      <th>Finland</th>\n",
              "      <td>7.769</td>\n",
              "      <td>6.693639</td>\n",
              "    </tr>\n",
              "    <tr>\n",
              "      <th>Denmark</th>\n",
              "      <td>7.600</td>\n",
              "      <td>6.940216</td>\n",
              "    </tr>\n",
              "    <tr>\n",
              "      <th>Norway</th>\n",
              "      <td>7.554</td>\n",
              "      <td>6.962506</td>\n",
              "    </tr>\n",
              "    <tr>\n",
              "      <th>Iceland</th>\n",
              "      <td>7.494</td>\n",
              "      <td>7.064675</td>\n",
              "    </tr>\n",
              "    <tr>\n",
              "      <th>Netherlands</th>\n",
              "      <td>7.488</td>\n",
              "      <td>6.974788</td>\n",
              "    </tr>\n",
              "    <tr>\n",
              "      <th>...</th>\n",
              "      <td>...</td>\n",
              "      <td>...</td>\n",
              "    </tr>\n",
              "    <tr>\n",
              "      <th>Rwanda</th>\n",
              "      <td>3.334</td>\n",
              "      <td>4.760182</td>\n",
              "    </tr>\n",
              "    <tr>\n",
              "      <th>Tanzania</th>\n",
              "      <td>3.231</td>\n",
              "      <td>4.629711</td>\n",
              "    </tr>\n",
              "    <tr>\n",
              "      <th>Afghanistan</th>\n",
              "      <td>3.203</td>\n",
              "      <td>3.710944</td>\n",
              "    </tr>\n",
              "    <tr>\n",
              "      <th>Central African Republic</th>\n",
              "      <td>3.083</td>\n",
              "      <td>3.726608</td>\n",
              "    </tr>\n",
              "    <tr>\n",
              "      <th>South Sudan</th>\n",
              "      <td>2.853</td>\n",
              "      <td>3.578461</td>\n",
              "    </tr>\n",
              "  </tbody>\n",
              "</table>\n",
              "<p>156 rows × 2 columns</p>\n",
              "</div>"
            ],
            "text/plain": [
              "                               Score  Prediction\n",
              "Year Country                                    \n",
              "2019 Finland                   7.769    6.693639\n",
              "     Denmark                   7.600    6.940216\n",
              "     Norway                    7.554    6.962506\n",
              "     Iceland                   7.494    7.064675\n",
              "     Netherlands               7.488    6.974788\n",
              "...                              ...         ...\n",
              "     Rwanda                    3.334    4.760182\n",
              "     Tanzania                  3.231    4.629711\n",
              "     Afghanistan               3.203    3.710944\n",
              "     Central African Republic  3.083    3.726608\n",
              "     South Sudan               2.853    3.578461\n",
              "\n",
              "[156 rows x 2 columns]"
            ]
          },
          "metadata": {
            "tags": []
          },
          "execution_count": 42
        }
      ]
    },
    {
      "cell_type": "markdown",
      "metadata": {
        "id": "GrkPenooKaY8",
        "colab_type": "text"
      },
      "source": [
        "From this, the random forest model does not seem to be super accurate. From here, the mean absolute error, mean square error, and root mean square error are calculated to numerically evaluate the performance of the algorithm. "
      ]
    },
    {
      "cell_type": "code",
      "metadata": {
        "id": "jPNGLUZLKT3A",
        "colab_type": "code",
        "colab": {
          "base_uri": "https://localhost:8080/",
          "height": 87
        },
        "outputId": "f038f55b-b7f4-47ec-fd65-b64879679fd5"
      },
      "source": [
        "#Calculate values to evaluate the model\n",
        "print('Mean Absolute Error:', metrics.mean_absolute_error(compare3['Score'], compare3['Prediction']))  \n",
        "print('Mean Squared Error:', metrics.mean_squared_error(compare3['Score'], compare3['Prediction']))  \n",
        "print('Root Mean Squared Error:', np.sqrt(metrics.mean_squared_error(compare3['Score'], compare3['Prediction'])))\n",
        "print('10% of the mean of the predicted values:', compare3['Prediction'].mean()*.1)"
      ],
      "execution_count": null,
      "outputs": [
        {
          "output_type": "stream",
          "text": [
            "Mean Absolute Error: 0.44257107495452286\n",
            "Mean Squared Error: 0.3017947799495671\n",
            "Root Mean Squared Error: 0.549358516771668\n",
            "10% of the mean of the predicted values: 0.5435310455485708\n"
          ],
          "name": "stdout"
        }
      ]
    },
    {
      "cell_type": "markdown",
      "metadata": {
        "id": "hQtSMmIcQAvC",
        "colab_type": "text"
      },
      "source": [
        "Based on the data, the error isn't substantial. However, it still leads me to believe that this model is about as accurate as the first two. "
      ]
    },
    {
      "cell_type": "code",
      "metadata": {
        "id": "1HxNyzkDKT7H",
        "colab_type": "code",
        "colab": {
          "base_uri": "https://localhost:8080/",
          "height": 465
        },
        "outputId": "20713e1c-60fe-452b-9bd2-1084a19f466c"
      },
      "source": [
        "#Creates a df to show the ranks based on the prediction\n",
        "compare3 = compare3.drop(columns=['Score'])\n",
        "compare3 = compare3.sort_values(by=['Prediction'], ascending = False)\n",
        "print('The countries ranked by their predicted scores for 2019')\n",
        "compare2"
      ],
      "execution_count": null,
      "outputs": [
        {
          "output_type": "stream",
          "text": [
            "The countries ranked by their predicted scores for 2019\n"
          ],
          "name": "stdout"
        },
        {
          "output_type": "execute_result",
          "data": {
            "text/html": [
              "<div>\n",
              "<style scoped>\n",
              "    .dataframe tbody tr th:only-of-type {\n",
              "        vertical-align: middle;\n",
              "    }\n",
              "\n",
              "    .dataframe tbody tr th {\n",
              "        vertical-align: top;\n",
              "    }\n",
              "\n",
              "    .dataframe thead th {\n",
              "        text-align: right;\n",
              "    }\n",
              "</style>\n",
              "<table border=\"1\" class=\"dataframe\">\n",
              "  <thead>\n",
              "    <tr style=\"text-align: right;\">\n",
              "      <th></th>\n",
              "      <th></th>\n",
              "      <th>Prediction</th>\n",
              "    </tr>\n",
              "    <tr>\n",
              "      <th>Year</th>\n",
              "      <th>Country</th>\n",
              "      <th></th>\n",
              "    </tr>\n",
              "  </thead>\n",
              "  <tbody>\n",
              "    <tr>\n",
              "      <th rowspan=\"11\" valign=\"top\">2019</th>\n",
              "      <th>Iceland</th>\n",
              "      <td>7.064675</td>\n",
              "    </tr>\n",
              "    <tr>\n",
              "      <th>United Arab Emirates</th>\n",
              "      <td>7.038653</td>\n",
              "    </tr>\n",
              "    <tr>\n",
              "      <th>Netherlands</th>\n",
              "      <td>6.974788</td>\n",
              "    </tr>\n",
              "    <tr>\n",
              "      <th>Norway</th>\n",
              "      <td>6.962506</td>\n",
              "    </tr>\n",
              "    <tr>\n",
              "      <th>Malta</th>\n",
              "      <td>6.954921</td>\n",
              "    </tr>\n",
              "    <tr>\n",
              "      <th>...</th>\n",
              "      <td>...</td>\n",
              "    </tr>\n",
              "    <tr>\n",
              "      <th>Chad</th>\n",
              "      <td>3.750688</td>\n",
              "    </tr>\n",
              "    <tr>\n",
              "      <th>Central African Republic</th>\n",
              "      <td>3.726608</td>\n",
              "    </tr>\n",
              "    <tr>\n",
              "      <th>Afghanistan</th>\n",
              "      <td>3.710944</td>\n",
              "    </tr>\n",
              "    <tr>\n",
              "      <th>Burundi</th>\n",
              "      <td>3.709792</td>\n",
              "    </tr>\n",
              "    <tr>\n",
              "      <th>South Sudan</th>\n",
              "      <td>3.578461</td>\n",
              "    </tr>\n",
              "  </tbody>\n",
              "</table>\n",
              "<p>156 rows × 1 columns</p>\n",
              "</div>"
            ],
            "text/plain": [
              "                               Prediction\n",
              "Year Country                             \n",
              "2019 Iceland                     7.064675\n",
              "     United Arab Emirates        7.038653\n",
              "     Netherlands                 6.974788\n",
              "     Norway                      6.962506\n",
              "     Malta                       6.954921\n",
              "...                                   ...\n",
              "     Chad                        3.750688\n",
              "     Central African Republic    3.726608\n",
              "     Afghanistan                 3.710944\n",
              "     Burundi                     3.709792\n",
              "     South Sudan                 3.578461\n",
              "\n",
              "[156 rows x 1 columns]"
            ]
          },
          "metadata": {
            "tags": []
          },
          "execution_count": 44
        }
      ]
    },
    {
      "cell_type": "code",
      "metadata": {
        "id": "iGb1cllyNzNE",
        "colab_type": "code",
        "colab": {
          "base_uri": "https://localhost:8080/",
          "height": 465
        },
        "outputId": "d73ca783-140c-444f-804b-6171ade31509"
      },
      "source": [
        "#prints a dataframe of the actual rankings\n",
        "print('The countries ranked by their actual scores for 2019')\n",
        "test_score"
      ],
      "execution_count": null,
      "outputs": [
        {
          "output_type": "stream",
          "text": [
            "The countries ranked by their actual scores for 2019\n"
          ],
          "name": "stdout"
        },
        {
          "output_type": "execute_result",
          "data": {
            "text/html": [
              "<div>\n",
              "<style scoped>\n",
              "    .dataframe tbody tr th:only-of-type {\n",
              "        vertical-align: middle;\n",
              "    }\n",
              "\n",
              "    .dataframe tbody tr th {\n",
              "        vertical-align: top;\n",
              "    }\n",
              "\n",
              "    .dataframe thead th {\n",
              "        text-align: right;\n",
              "    }\n",
              "</style>\n",
              "<table border=\"1\" class=\"dataframe\">\n",
              "  <thead>\n",
              "    <tr style=\"text-align: right;\">\n",
              "      <th></th>\n",
              "      <th></th>\n",
              "      <th>Score</th>\n",
              "    </tr>\n",
              "    <tr>\n",
              "      <th>Year</th>\n",
              "      <th>Country</th>\n",
              "      <th></th>\n",
              "    </tr>\n",
              "  </thead>\n",
              "  <tbody>\n",
              "    <tr>\n",
              "      <th rowspan=\"11\" valign=\"top\">2019</th>\n",
              "      <th>Finland</th>\n",
              "      <td>7.769</td>\n",
              "    </tr>\n",
              "    <tr>\n",
              "      <th>Denmark</th>\n",
              "      <td>7.600</td>\n",
              "    </tr>\n",
              "    <tr>\n",
              "      <th>Norway</th>\n",
              "      <td>7.554</td>\n",
              "    </tr>\n",
              "    <tr>\n",
              "      <th>Iceland</th>\n",
              "      <td>7.494</td>\n",
              "    </tr>\n",
              "    <tr>\n",
              "      <th>Netherlands</th>\n",
              "      <td>7.488</td>\n",
              "    </tr>\n",
              "    <tr>\n",
              "      <th>...</th>\n",
              "      <td>...</td>\n",
              "    </tr>\n",
              "    <tr>\n",
              "      <th>Rwanda</th>\n",
              "      <td>3.334</td>\n",
              "    </tr>\n",
              "    <tr>\n",
              "      <th>Tanzania</th>\n",
              "      <td>3.231</td>\n",
              "    </tr>\n",
              "    <tr>\n",
              "      <th>Afghanistan</th>\n",
              "      <td>3.203</td>\n",
              "    </tr>\n",
              "    <tr>\n",
              "      <th>Central African Republic</th>\n",
              "      <td>3.083</td>\n",
              "    </tr>\n",
              "    <tr>\n",
              "      <th>South Sudan</th>\n",
              "      <td>2.853</td>\n",
              "    </tr>\n",
              "  </tbody>\n",
              "</table>\n",
              "<p>156 rows × 1 columns</p>\n",
              "</div>"
            ],
            "text/plain": [
              "                               Score\n",
              "Year Country                        \n",
              "2019 Finland                   7.769\n",
              "     Denmark                   7.600\n",
              "     Norway                    7.554\n",
              "     Iceland                   7.494\n",
              "     Netherlands               7.488\n",
              "...                              ...\n",
              "     Rwanda                    3.334\n",
              "     Tanzania                  3.231\n",
              "     Afghanistan               3.203\n",
              "     Central African Republic  3.083\n",
              "     South Sudan               2.853\n",
              "\n",
              "[156 rows x 1 columns]"
            ]
          },
          "metadata": {
            "tags": []
          },
          "execution_count": 45
        }
      ]
    },
    {
      "cell_type": "markdown",
      "metadata": {
        "id": "V6QofM3kN99j",
        "colab_type": "text"
      },
      "source": [
        "Just like with the other models in this project, the predicted ranks do not match the actual ranks. Also again, the bottom 5 have more in common between actual/predicted than the top 5. "
      ]
    },
    {
      "cell_type": "markdown",
      "metadata": {
        "id": "AmreO8YRRBd9",
        "colab_type": "text"
      },
      "source": [
        "Based on the EDA and the models, the most important factor going into the happiness score is the GDP. Another interesting thing I noticed is that the only country that is consistently calculated as in the top 5 happiest countries is Norway, regardless of the model used. \n",
        "\n",
        "If I were in charge of the World Happiness Report, I would base the happiness score on the following: GDP and availability of health care.\n",
        "\n",
        "If I had to create a formula for happiness score, I would use the coefficients from the linear regression model: \n",
        "\n",
        "            s=2.46+1.35x+1.21y+2.03z+0.54w\n",
        "\n",
        "where x = GDP, y = health, z = freedom, and w = generosity."
      ]
    }
  ]
}